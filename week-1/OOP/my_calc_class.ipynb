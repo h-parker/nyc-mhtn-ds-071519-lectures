{
 "cells": [
  {
   "cell_type": "code",
   "execution_count": 88,
   "metadata": {},
   "outputs": [],
   "source": [
    "import math\n",
    "\n",
    "class Calc:\n",
    "    def __init__(self, data):\n",
    "        self.data = data\n",
    "        self.length = len(data)\n",
    "        self.__create_stats()\n",
    "        \n",
    "    def __create_stats(self):\n",
    "        self.mean = self.__calc_mean()\n",
    "        self.median = self.__calc_median()\n",
    "        self.variance = self.__calc_variance()\n",
    "        self.standev = self.__calc_standev()\n",
    "    \n",
    "    def __calc_mean(self, d = None):\n",
    "        if d == None:\n",
    "            return  sum(self.data)/len(self.data)\n",
    "        else:\n",
    "            return sum(d)/len(d)\n",
    "    \n",
    "    def __calc_median(self):\n",
    "        dataLen = int(len(self.data))\n",
    "        \n",
    "        #if length is odd, take middle value, by dividing the length by 2, then rounding up\n",
    "        if (dataLen % 2) == 1:\n",
    "            return self.data[round(dataLen/2)]\n",
    "        \n",
    "        #if the length is even, take the mean of the middle two values, which have indices length/2 and (length/2 + 1)\n",
    "        elif (dataLen % 2) == 0:\n",
    "            #remember that indices are indexed at 0\n",
    "            return self.__calc_mean([self.data[int(dataLen/2-1)], self.data[int(dataLen/2)]]) \n",
    "    \n",
    "    def __calc_variance(self):\n",
    "        # multiply 1/(length of data) by the sum of (data point - mean)^2, for each data point\n",
    "        sum = 0\n",
    "        for x in self.data:\n",
    "            sum += (x - self.mean)**2\n",
    "        return (1/(len(self.data)-1))*sum\n",
    "    \n",
    "    def __calc_standev(self):\n",
    "        return math.sqrt(self.__calc_variance())\n",
    "    \n",
    "    def add_data(self, new_data):\n",
    "        self.data.extend(new_data) # adds new data to end of list\n",
    "        self.__create_stats() # updates all old stats to include new data\n",
    "        return self.data\n",
    "        \n",
    "    def remove_data(self, position): # give position to remove data\n",
    "        self.data.pop(position)\n",
    "        return self.data\n",
    "        "
   ]
  },
  {
   "cell_type": "code",
   "execution_count": 94,
   "metadata": {},
   "outputs": [
    {
     "name": "stdout",
     "output_type": "stream",
     "text": [
      "3.0276503540974917\n"
     ]
    }
   ],
   "source": [
    "d= list(range(10))\n",
    "test = Calc(d)\n",
    "print(test.standev)"
   ]
  },
  {
   "cell_type": "code",
   "execution_count": 95,
   "metadata": {},
   "outputs": [
    {
     "data": {
      "text/plain": [
       "[0, 1, 2, 3, 4, 5, 6, 7, 8, 9, 11, 12]"
      ]
     },
     "execution_count": 95,
     "metadata": {},
     "output_type": "execute_result"
    }
   ],
   "source": [
    "test.add_data([11,12])"
   ]
  },
  {
   "cell_type": "code",
   "execution_count": 96,
   "metadata": {},
   "outputs": [
    {
     "name": "stdout",
     "output_type": "stream",
     "text": [
      "14.969696969696969\n"
     ]
    }
   ],
   "source": [
    "print(test.variance)"
   ]
  },
  {
   "cell_type": "code",
   "execution_count": 97,
   "metadata": {},
   "outputs": [
    {
     "data": {
      "text/plain": [
       "[1, 2, 3, 4, 5, 6, 7, 8, 9, 11, 12]"
      ]
     },
     "execution_count": 97,
     "metadata": {},
     "output_type": "execute_result"
    }
   ],
   "source": [
    "test.remove_data(0)"
   ]
  },
  {
   "cell_type": "code",
   "execution_count": null,
   "metadata": {},
   "outputs": [],
   "source": []
  }
 ],
 "metadata": {
  "kernelspec": {
   "display_name": "Python 3",
   "language": "python",
   "name": "python3"
  },
  "language_info": {
   "codemirror_mode": {
    "name": "ipython",
    "version": 3
   },
   "file_extension": ".py",
   "mimetype": "text/x-python",
   "name": "python",
   "nbconvert_exporter": "python",
   "pygments_lexer": "ipython3",
   "version": "3.7.3"
  }
 },
 "nbformat": 4,
 "nbformat_minor": 2
}
