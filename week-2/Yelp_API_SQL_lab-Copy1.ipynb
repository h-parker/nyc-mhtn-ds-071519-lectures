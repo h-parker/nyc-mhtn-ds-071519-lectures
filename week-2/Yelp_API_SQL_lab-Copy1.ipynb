{
 "cells": [
  {
   "cell_type": "markdown",
   "metadata": {},
   "source": [
    "# Yelp API - Lab\n",
    "\n",
    "\n",
    "\n",
    "## Introduction \n",
    "\n",
    "Now that we've seen how the Yelp API works, it's time to put those API and SQL skills to work in order to do some basic business analysis! Taking things a step further, you'll also independently explore how to perform pagination in order to retrieve a full results set from the Yelp API!\n",
    "\n",
    "## Objectives\n",
    "\n",
    "You will be able to:\n",
    "* Create a DB on AWS to store information from Yelp about businesses\n",
    "* Create HTTP requests to get data from Yelp API\n",
    "* Parse HTTP responses and insert the information into your DB\n",
    "* Perform pagination to retrieve troves of data!\n",
    "* Write SQL queries to answer questions about your data \n",
    "\n",
    "Making an ETL pipeline (extract, transform, and load)"
   ]
  },
  {
   "cell_type": "markdown",
   "metadata": {},
   "source": [
    "## Problem Introduction\n",
    "\n",
    "You've now worked with some API calls, but we have yet to see how to retrieve a more complete dataset in a programmatic manner and combine it with our other data skills. In this lab you will get data from the Yelp API, store that data in a SQL Database on AWS, and write queries to answer follow-up questions. \n",
    "\n",
    "\n",
    "The search data is up to you -- the term & location are your call. \n",
    "\n",
    "\n",
    "### Outline:\n",
    "\n",
    "1. Determine which pieces of information you need to pull from the Yelp API. \n",
    "    * look at documentation\n",
    "    * figure out what you'll want to put into your sql database (there's a lot given, and you won't want it all)\n",
    "    * at the very least, you'll want the name and reviews of the business\n",
    "    * the business ID is one thing you'll need to be able to query Yelp for reviews\n",
    "\n",
    "\n",
    "2. Create a DB schema with 2 tables. One for the businesses and one for the reviews.\n",
    "    * Each review will have to be its own row, so you'll have think about 1NL -- each item in a column should be unique (or w/e the phrasing of that rule should be)\n",
    "\n",
    "\n",
    "3. Create Python functions to:\n",
    "  - Perform a search of businesses using pagination\n",
    "  - Parse the API response for specific data points\n",
    "  - Insert the data into your AWS DB\n",
    "  - consider the above functions \"helper functions\" for #4\n",
    "\n",
    "\n",
    "4. Use the functions above in a loop that will paginate over the results to retrieve all of the results.\n",
    "\n",
    "5. Create functions to:\n",
    "  - Retrieve the reviews data of one business\n",
    "  - Parse the reviews response for specific review data\n",
    "  - Insert the review data into the DB\n",
    "  \n",
    "\n",
    "6. Using SQL, query all of the business IDs. Using the 3 Python functions you've created, run your business IDs through a loop to get the reviews for each business and insert them into your DB.\n",
    "\n",
    "7. Write SQL queries to answer the following questions about your data.\n",
    "\n",
    "\n",
    "Bonus Steps:  \n",
    "- Place your helper functions in a package so that your final notebook only has the major steps listed.\n",
    "- Rewrite your business search functions to be able take an argument for the type of business you are searching for.\n",
    "- Add another group of businesses to your database.\n"
   ]
  },
  {
   "cell_type": "markdown",
   "metadata": {},
   "source": [
    " \n",
    "## SQL Questions:\n",
    "\n",
    "- What are the 5 businesses with the highest average ratings?\n",
    "- What are the 5 businesses with the lowest average ratings?\n",
    "- What is the average rating of restaurants that have a price label of one dollar sign? Two dollar signs? Three dollar signs? \n",
    "- How many businesses have a rating above 4.5?\n",
    "- How many businesses have a rating below 3?\n",
    "- Return the text of the oldest review in the table.\n",
    "- Return the overall rating of the business with the oldest review. \n",
    "- Find the highest rated business and return text of the newest review of the three.\n",
    "- Find the lowest rated business and return text of the newest review of the three.  "
   ]
  },
  {
   "cell_type": "markdown",
   "metadata": {},
   "source": [
    "## Part I - Set up the DB\n",
    "\n",
    "Start by reading SQL questions above to get an understanding of the data you will need. Then, read the documentation of Yelp API to understand what data you will receive in the response.  \n",
    "\n",
    "\n",
    "Now that you are familiar with the data, create your SQL queries to create the DB and the appropriate tables. "
   ]
  },
  {
   "cell_type": "code",
   "execution_count": 1,
   "metadata": {},
   "outputs": [
    {
     "ename": "ModuleNotFoundError",
     "evalue": "No module named 'yelpStuff'",
     "output_type": "error",
     "traceback": [
      "\u001b[0;31m---------------------------------------------------------------------------\u001b[0m",
      "\u001b[0;31mModuleNotFoundError\u001b[0m                       Traceback (most recent call last)",
      "\u001b[0;32m<ipython-input-1-3b2642f123c0>\u001b[0m in \u001b[0;36m<module>\u001b[0;34m\u001b[0m\n\u001b[1;32m      1\u001b[0m \u001b[0mget_ipython\u001b[0m\u001b[0;34m(\u001b[0m\u001b[0;34m)\u001b[0m\u001b[0;34m.\u001b[0m\u001b[0mrun_line_magic\u001b[0m\u001b[0;34m(\u001b[0m\u001b[0;34m'load_ext'\u001b[0m\u001b[0;34m,\u001b[0m \u001b[0;34m'autoreload'\u001b[0m\u001b[0;34m)\u001b[0m\u001b[0;34m\u001b[0m\u001b[0;34m\u001b[0m\u001b[0m\n\u001b[1;32m      2\u001b[0m \u001b[0mget_ipython\u001b[0m\u001b[0;34m(\u001b[0m\u001b[0;34m)\u001b[0m\u001b[0;34m.\u001b[0m\u001b[0mrun_line_magic\u001b[0m\u001b[0;34m(\u001b[0m\u001b[0;34m'autoreload'\u001b[0m\u001b[0;34m,\u001b[0m \u001b[0;34m'2'\u001b[0m\u001b[0;34m)\u001b[0m\u001b[0;34m\u001b[0m\u001b[0;34m\u001b[0m\u001b[0m\n\u001b[0;32m----> 3\u001b[0;31m \u001b[0;32mimport\u001b[0m \u001b[0myelpStuff\u001b[0m \u001b[0;32mas\u001b[0m \u001b[0mys\u001b[0m\u001b[0;34m\u001b[0m\u001b[0;34m\u001b[0m\u001b[0m\n\u001b[0m\u001b[1;32m      4\u001b[0m \u001b[0;32mimport\u001b[0m \u001b[0mmysql\u001b[0m\u001b[0;34m.\u001b[0m\u001b[0mconnector\u001b[0m\u001b[0;34m\u001b[0m\u001b[0;34m\u001b[0m\u001b[0m\n\u001b[1;32m      5\u001b[0m \u001b[0;34m\u001b[0m\u001b[0m\n",
      "\u001b[0;31mModuleNotFoundError\u001b[0m: No module named 'yelpStuff'"
     ]
    }
   ],
   "source": [
    "%load_ext autoreload\n",
    "%autoreload 2\n",
    "import yelpStuff as ys\n",
    "import mysql.connector\n",
    "\n",
    "cnx = mysql.connector.connect(\n",
    "            host = config.host,\n",
    "            user = config.user,\n",
    "            passwd = config.passwd)\n",
    "\n",
    "cursor = cnx.cursor()"
   ]
  },
  {
   "cell_type": "code",
   "execution_count": null,
   "metadata": {},
   "outputs": [],
   "source": [
    "## Create new DB \n",
    "db_name = 'yelp'\n",
    "\n",
    "yf.create_database(cursor, db_name)"
   ]
  },
  {
   "cell_type": "code",
   "execution_count": null,
   "metadata": {},
   "outputs": [],
   "source": [
    "# Create a table for the Businesses\n",
    "# PK for businesses should be business' id\n",
    "\n",
    "TABLES = {}\n",
    "\n",
    "TABLES['businesses'] = (\n",
    "                        \"\"\"CREATE TABLE businesses (\n",
    "                                 businessId VARCHAR(25) NOT NULL,\n",
    "                                 name TEXT NOT NULL,\n",
    "                                 price VARCHAR(5),\n",
    "                                 rating REAL,\n",
    "                                 loc_address TEXT,\n",
    "                                 PRIMARY KEY (businessId)\n",
    "                                 ) ENGINE=InnoDB\"\"\")\n",
    "TABLES['reviews'] = (\n",
    "                        \"\"\"CREATE TABLE reviews (\n",
    "                                 reviewId VARCHAR(25) NOT NULL,\n",
    "                                 businessId VARCHAR(25) NOT NULL,\n",
    "                                 userId VARCHAR(25),\n",
    "                                 preview TEXT,\n",
    "                                 userRating REAL,\n",
    "                                 PRIMARY KEY (reviewId)\n",
    "                                 CONSTRAINT FK_businessId FOREIGN KEY (businessId)\n",
    "                                 REFERENCES (businesses)businessesId\n",
    "                                 )ENGINE=InnoDB\"\"\")"
   ]
  },
  {
   "cell_type": "code",
   "execution_count": null,
   "metadata": {},
   "outputs": [],
   "source": [
    "#This adds our tables to the database\n",
    "yf.add_tables_to_db(TABLES, cursor)\n",
    "\n",
    "yf.close_connection(cnx, cursor)\n"
   ]
  },
  {
   "cell_type": "markdown",
   "metadata": {},
   "source": [
    "## Part 2: Create ETL pipeline for the business data from the API"
   ]
  },
  {
   "cell_type": "code",
   "execution_count": null,
   "metadata": {},
   "outputs": [],
   "source": [
    "# write a function to make a call to the API\n",
    "api_key = 'woG20FI2v3L2Pi39YfhvKMbEHg7-lffJ5fAdSnrDLx7ef6XG5CM4IPQcM7-9Qo-sUE5LQvb7LY5tkhWTXn4p0ky21xeZsOktSlN3vrnfC5tT5aA1dpynYkLhEAM6XXYx'\n",
    "url_params_businesses = {\n",
    "                            'term' : 'thai',\n",
    "                            'location': 'NYC',\n",
    "                            'limit' : 50\n",
    "                            }\n",
    "url_businesses = 'https://api.yelp.com/v3/businesses/search'\n",
    "\n",
    "url_reviews = 'https://api.yelp.com/v3/businesses/{id}/reviews'"
   ]
  },
  {
   "cell_type": "code",
   "execution_count": null,
   "metadata": {},
   "outputs": [],
   "source": [
    "# initial call so that we know how many results there are in total\n",
    "tryresults = yf.yelp_call(url_businesses, api_key, url_params_businesses)\n"
   ]
  },
  {
   "cell_type": "code",
   "execution_count": null,
   "metadata": {},
   "outputs": [],
   "source": [
    "tryresults"
   ]
  },
  {
   "cell_type": "code",
   "execution_count": null,
   "metadata": {},
   "outputs": [],
   "source": [
    "# write a function to parse the API response \n",
    "# so that you can easily insert the data in to the DB\n",
    "\n",
    "#creates new cursor for this\n",
    "cnx_cur = yf.create_cnx_cur()\n",
    "cnx = cnx_cur[0]\n",
    "cursor = cnx_cur[1]\n",
    "\n",
    "yf.all_results(tryresults, url_businesses, api_key, url_params_businesses)\n",
    "\n",
    "yf.close_connection(cnx, cursor)"
   ]
  },
  {
   "cell_type": "markdown",
   "metadata": {},
   "source": [
    "## Part 3: Create ETL pipeline for the review data from the API"
   ]
  },
  {
   "cell_type": "code",
   "execution_count": null,
   "metadata": {},
   "outputs": [],
   "source": [
    "# write a query to pull back all of the business ids \n",
    "# you will need these ids to pull back the reviews for each restaurant\n",
    "cnx_cur = yf.create_cnx_cur()\n",
    "cnx = cnx_cur[0]\n",
    "cursor = cnx_cur[1]\n",
    "\n",
    "cursor.execute(\"\"\"SELECT businessId FROM yelp.businesses\"\"\")\n",
    "businessIdList = [x[0] for x in cursor.fetchall()]\n",
    "\n",
    "yf.close_connection(cnx, cursor)"
   ]
  },
  {
   "cell_type": "code",
   "execution_count": null,
   "metadata": {},
   "outputs": [],
   "source": [
    "# write a function that take a business id \n",
    "# and makes a call to the API for reivews\n",
    "# then parse out the relevant information\n",
    "\n",
    "url_reviews = 'https://api.yelp.com/v3/businesses/{}/reviews'\n",
    "\n",
    "results = yf.get_reviews(businessIdList, url_reviews, api_key) #this takes a while! don't stop it!"
   ]
  },
  {
   "cell_type": "code",
   "execution_count": null,
   "metadata": {},
   "outputs": [],
   "source": [
    "yf.add_reviews_to_db(businessIdList, url_reviews, api_key)"
   ]
  },
  {
   "cell_type": "markdown",
   "metadata": {},
   "source": [
    "## Part 4: Write SQL queries that will answer the questions posed. "
   ]
  },
  {
   "cell_type": "code",
   "execution_count": null,
   "metadata": {},
   "outputs": [],
   "source": [
    "import sqlite3, pandas as pd\n",
    "cnx_cur = yf.create_cnx_cur()\n",
    "cnx = cnx_cur[0]\n",
    "cursor = cnx_cur[1]\n",
    "\n",
    "\n",
    "# What are the 5 businesses with the highest average ratings?\n",
    "cursor.execute(\"\"\"SELECT name, rating FROM yelp.businesses \n",
    "                        ORDER BY rating DESC\n",
    "                        LIMIT 5\"\"\")\n",
    "\n",
    "df1 = pd.DataFrame(cursor.fetchall())\n",
    "df1.columns = [x[0] for x in cursor.description]\n",
    "df1"
   ]
  },
  {
   "cell_type": "code",
   "execution_count": null,
   "metadata": {},
   "outputs": [],
   "source": [
    "# What are the 5 businesses with the lowest average ratings?\n",
    "cursor.execute(\"\"\"SELECT name, rating FROM yelp.businesses \n",
    "                        ORDER BY rating\n",
    "                        LIMIT 5\"\"\")\n",
    "\n",
    "df2 = pd.DataFrame(cursor.fetchall())\n",
    "df2.columns = [x[0] for x in cursor.description]\n",
    "df2"
   ]
  },
  {
   "cell_type": "code",
   "execution_count": null,
   "metadata": {},
   "outputs": [],
   "source": [
    "# What is the average rating of restaurants that have a price label of one dollar sign? Two dollar signs? Three dollar signs?\n",
    "cursor.execute(\"\"\"SELECT AVG(rating), price FROM yelp.businesses \n",
    "                        GROUP BY price\n",
    "                        ORDER BY price\n",
    "                        \"\"\")\n",
    "\n",
    "df3 = pd.DataFrame(cursor.fetchall())\n",
    "df3.columns = [x[0] for x in cursor.description]\n",
    "df3\n",
    "\n"
   ]
  },
  {
   "cell_type": "code",
   "execution_count": null,
   "metadata": {},
   "outputs": [],
   "source": [
    "# How many businesses have a rating above 4.5? (just > gives none -- no restaurants with > 4.5 rating)\n",
    "cursor.execute(\"\"\"SELECT count(rating) FROM yelp.businesses \n",
    "                        WHERE rating >= 4.5\n",
    "                        \"\"\")\n",
    "\n",
    "df4 = pd.DataFrame(cursor.fetchall())\n",
    "df4.columns = [x[0] for x in cursor.description]\n",
    "df4"
   ]
  },
  {
   "cell_type": "code",
   "execution_count": null,
   "metadata": {},
   "outputs": [],
   "source": [
    "# How many businesses have a rating below 3?\n",
    "cursor.execute(\"\"\"SELECT count(rating) FROM yelp.businesses \n",
    "                        WHERE rating <= 3\n",
    "                        \"\"\")\n",
    "\n",
    "df5 = pd.DataFrame(cursor.fetchall())\n",
    "df5.columns = [x[0] for x in cursor.description]\n",
    "df5"
   ]
  },
  {
   "cell_type": "code",
   "execution_count": null,
   "metadata": {},
   "outputs": [],
   "source": [
    "# Return the text of the oldest review in the table.\n",
    "cursor.execute(\"\"\"SELECT preview, time_stamp FROM yelp.reviews \n",
    "                        ORDER BY time_stamp\n",
    "                        LIMIT 1\n",
    "                        \"\"\")\n",
    "\n",
    "df6 = pd.DataFrame(cursor.fetchall())\n",
    "df6.columns = [x[0] for x in cursor.description]\n",
    "df6"
   ]
  },
  {
   "cell_type": "code",
   "execution_count": null,
   "metadata": {},
   "outputs": [],
   "source": [
    "# Return the overall rating of the business with the oldest review.\n",
    "# tried to do subquery, does not support LIMIT in subquery\n",
    "# cursor.execute(\"\"\"SELECT rating, name FROM yelp.businesses\n",
    "#                         WHERE businessId IN \n",
    "#                              (SELECT businessId FROM yelp.reviews\n",
    "#                                 ORDER BY time_stamp\n",
    "#                                 LIMIT 1)\n",
    "#                         \"\"\")\n",
    "\n",
    "cursor.execute(\"\"\"SELECT rating, name, time_stamp FROM yelp.businesses\n",
    "                        JOIN yelp.reviews USING(businessId)\n",
    "                        ORDER BY time_stamp\n",
    "                        LIMIT 1\n",
    "                        \"\"\")\n",
    "\n",
    "\n",
    "df7 = pd.DataFrame(cursor.fetchall())\n",
    "df7.columns = [x[0] for x in cursor.description]\n",
    "df7"
   ]
  },
  {
   "cell_type": "code",
   "execution_count": null,
   "metadata": {},
   "outputs": [],
   "source": [
    "# Find the highest rated business and return text of the newest review of the three.\n",
    "# too many 4.5s! this only retrieves the newest of ALL 4.5 rated restaurants\n",
    "cursor.execute(\"\"\"SELECT r.preview, b.name, r.time_stamp, rating FROM yelp.businesses b\n",
    "                    JOIN yelp.reviews r USING(businessId)\n",
    "                    ORDER BY rating DESC, time_stamp DESC\n",
    "                    LIMIT 1\n",
    "                        \"\"\")\n",
    "\n",
    "df8 = pd.DataFrame(cursor.fetchall())\n",
    "df8.columns = [x[0] for x in cursor.description]\n",
    "df8"
   ]
  },
  {
   "cell_type": "code",
   "execution_count": null,
   "metadata": {},
   "outputs": [],
   "source": [
    "# Find the lowest rated business and return text of the newest review of the three.\n",
    "cursor.execute(\"\"\"SELECT r.preview, b.name, r.time_stamp FROM yelp.businesses b\n",
    "                    JOIN yelp.reviews r USING(businessId)\n",
    "                    ORDER BY rating ASC, time_stamp DESC\n",
    "                    LIMIT 1\n",
    "                        \"\"\")\n",
    "\n",
    "\n",
    "df8 = pd.DataFrame(cursor.fetchall())\n",
    "df8.columns = [x[0] for x in cursor.description]\n",
    "df8\n",
    "\n"
   ]
  },
  {
   "cell_type": "code",
   "execution_count": null,
   "metadata": {},
   "outputs": [],
   "source": [
    "cnx.commit()\n",
    "\n",
    "cursor.close()\n",
    "cnx.close()"
   ]
  },
  {
   "cell_type": "markdown",
   "metadata": {},
   "source": [
    "###  Pagination\n",
    "\n",
    "Returning to the Yelp API, the [documentation](https://www.yelp.com/developers/documentation/v3/business_search) also provides us details regarding the API limits. These often include details about the number of requests a user is allowed to make within a specified time limit and the maximum number of results to be returned. In this case, we are told that any request has a maximum of 50 results per request and defaults to 20. Furthermore, any search will be limited to a total of 1000 results. To retrieve all 1000 of these results, we would have to page through the results piece by piece, retriving 50 at a time. Processes such as these are often refered to as pagination.\n",
    "\n",
    "Now that you have an initial response, you can examine the contents of the json container. For example, you might start with ```response.json().keys()```. Here, you'll see a key for `'total'`, which tells you the full number of matching results given your query parameters. Write a loop (or ideally a function) which then makes successive API calls using the offset parameter to retrieve all of the results (or 5000 for a particularly large result set) for the original query. As you do this, be mindful of how you store the data. \n",
    "\n",
    "**Note: be mindful of the API rate limits. You can only make 5000 requests per day, and APIs can make requests too fast. Start prototyping small before running a loop that could be faulty. You can also use time.sleep(n) to add delays. For more details see https://www.yelp.com/developers/documentation/v3/rate_limiting.**"
   ]
  },
  {
   "cell_type": "markdown",
   "metadata": {},
   "source": [
    "***Below is sample code that you can use to help you deal with the pagination parameter.***"
   ]
  },
  {
   "cell_type": "code",
   "execution_count": null,
   "metadata": {},
   "outputs": [],
   "source": [
    "# Your code here; use a function or loop to retrieve all the results from your original request\n",
    "import time\n",
    "\n",
    "\n",
    "def yelp_call(url_params, api_key):\n",
    "    url = 'https://api.yelp.com/v3/businesses/search'\n",
    "    headers = {'Authorization': 'Bearer {}'.format(api_key)}\n",
    "    response = requests.get(url, headers=headers, params=url_params)\n",
    "    \n",
    "    data = response.json()['businesses']\n",
    "    return data\n",
    "\n",
    "def all_results(url_params, api_key):\n",
    "    num = response.json()['total']\n",
    "    print('{} total matches found.'.format(num))\n",
    "    cur = 0\n",
    "    results = []\n",
    "    while cur < num and cur < 1000:\n",
    "        # This gets you to where you should be in the data, rather than just keeping grabbing\n",
    "        # the first 50 over and over again\n",
    "        url_params['offset'] = cur \n",
    "        results.append(yelp_call(url_params, api_key))\n",
    "        time.sleep(1) #Wait a second\n",
    "        cur += 50\n",
    "    return df\n",
    "    # Note: you could also have your function parse and then insert into database rather \n",
    "    # than appending it to results\n",
    "\n",
    "term = 'pizza'\n",
    "location = 'Astoria NY'\n",
    "url_params = {  'term': term.replace(' ', '+'),\n",
    "                'location': location.replace(' ', '+'),\n",
    "                'limit' : 50\n",
    "             }\n",
    "df = all_results(url_params, api_key)\n",
    "print(len(df))\n",
    "df.head()"
   ]
  },
  {
   "cell_type": "markdown",
   "metadata": {},
   "source": [
    "### Sample SQL Query \n",
    "\n",
    "Below is a SQL query to create a table.  Additionally here is a link to create a table with a foreign key.\n",
    "\n",
    "http://www.mysqltutorial.org/mysql-foreign-key/\n",
    "\n",
    "```CREATE TABLE IF NOT EXISTS tasks (\n",
    "    task_id INT AUTO_INCREMENT,\n",
    "    title VARCHAR(255) NOT NULL,\n",
    "    start_date DATE,\n",
    "    due_date DATE,\n",
    "    status TINYINT NOT NULL,\n",
    "    priority TINYINT NOT NULL,\n",
    "    description TEXT,\n",
    "    PRIMARY KEY (task_id)\n",
    ")  ENGINE=INNODB;```"
   ]
  },
  {
   "cell_type": "code",
   "execution_count": null,
   "metadata": {},
   "outputs": [],
   "source": []
  }
 ],
 "metadata": {
  "kernelspec": {
   "display_name": "Python 3",
   "language": "python",
   "name": "python3"
  },
  "language_info": {
   "codemirror_mode": {
    "name": "ipython",
    "version": 3
   },
   "file_extension": ".py",
   "mimetype": "text/x-python",
   "name": "python",
   "nbconvert_exporter": "python",
   "pygments_lexer": "ipython3",
   "version": "3.7.3"
  },
  "toc": {
   "base_numbering": 1,
   "nav_menu": {},
   "number_sections": false,
   "sideBar": true,
   "skip_h1_title": false,
   "title_cell": "Table of Contents",
   "title_sidebar": "Contents",
   "toc_cell": false,
   "toc_position": {},
   "toc_section_display": true,
   "toc_window_display": false
  }
 },
 "nbformat": 4,
 "nbformat_minor": 2
}
