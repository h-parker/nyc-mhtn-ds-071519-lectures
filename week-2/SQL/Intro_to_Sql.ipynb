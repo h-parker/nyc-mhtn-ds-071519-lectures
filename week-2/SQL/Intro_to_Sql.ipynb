{
 "cells": [
  {
   "cell_type": "markdown",
   "metadata": {
    "slideshow": {
     "slide_type": "slide"
    }
   },
   "source": [
    "# Starting off "
   ]
  },
  {
   "cell_type": "markdown",
   "metadata": {
    "slideshow": {
     "slide_type": "fragment"
    }
   },
   "source": [
    "### You are working on data science project to try and predict the price of houses. You have a lot of data about the previous sales of  houses that you want to use to predict other housing prices.  \n",
    "- How would you store your data?\n",
    "- What could be some potential problems with saving your data that way?\n",
    "\n"
   ]
  },
  {
   "cell_type": "markdown",
   "metadata": {
    "slideshow": {
     "slide_type": "slide"
    }
   },
   "source": [
    "# A BEGINNER’S GUIDE TO DATABASES & SQL"
   ]
  },
  {
   "cell_type": "markdown",
   "metadata": {
    "slideshow": {
     "slide_type": "subslide"
    }
   },
   "source": [
    "**Objective:** SWBAT create a SQLite db instance, create tables and insert records into those tables\n",
    "\n",
    "**Agenda:**\n",
    "- Overview of databases\n",
    "- Discuss Differences between SQL DBs\n",
    "- Explain the basic structures of a RDBMS\n",
    "- Instantiate SQLite DB instance on your computer"
   ]
  },
  {
   "cell_type": "markdown",
   "metadata": {
    "slideshow": {
     "slide_type": "slide"
    }
   },
   "source": [
    "<img src=\"images/DS_flow_chart.png\" width=500>\n",
    "(data science lifecyle flow chart)"
   ]
  },
  {
   "cell_type": "markdown",
   "metadata": {
    "slideshow": {
     "slide_type": "slide"
    }
   },
   "source": [
    "### What is a Database?\n",
    "- In general, databases store sets of data that can be queried for use in other applications. A database man\n",
    "agement system supports the development, administration and use of database platforms.\n",
    "- Backbone of everything on the internet\n",
    "    - ie, NYT saves txt of each article in a DB, then when you go to open a file, they pull that from the DB\n",
    "    "
   ]
  },
  {
   "cell_type": "markdown",
   "metadata": {
    "slideshow": {
     "slide_type": "subslide"
    }
   },
   "source": [
    "\n",
    "### What is a Relational Database? \n",
    "- A *relational database management system* (**RDBMS**) is a type of DBMS with a row-based table structure that connects related data elements and includes functions that maintain the security, accuracy, integrity and consistency of the data.\n",
    "- The most basic **RDBMS** functions are related to *create, read, update and delete* operations, collectively known as **CRUD**."
   ]
  },
  {
   "cell_type": "markdown",
   "metadata": {
    "slideshow": {
     "slide_type": "subslide"
    }
   },
   "source": [
    "### What is SQL?\n",
    "\n",
    "- **SQL** (usually pronounced like the word “sequel”) stands for Structured Query Language.\n",
    "- A programming language used to communicate with data stored in a relational database management system.\n",
    "    - The language used to talk to the DB\n",
    "- SQL syntax is similar to the English language, which makes it relatively easy to write, read, and interpret."
   ]
  },
  {
   "cell_type": "markdown",
   "metadata": {
    "slideshow": {
     "slide_type": "slide"
    }
   },
   "source": [
    "## POPULAR RDBMS\n",
    "\n",
    "- SQLite\n",
    "- MySQL\n",
    "- PostgreSql\n",
    "- Oracle DB\n",
    "- SQL Server\n",
    "\n",
    "----\n",
    "- There exist nonrelational DBs -> ex. MongoDB"
   ]
  },
  {
   "cell_type": "markdown",
   "metadata": {
    "slideshow": {
     "slide_type": "subslide"
    }
   },
   "source": [
    "### SQLite\n",
    "\n",
    "- SQLite is a popular open source SQL database. \n",
    "- It can store an entire database in a single file.\n",
    "- It is 'lite' because it is not server based.\n",
    "    - every other one uses a server to store data, and you access it from the cloud, or whatever\n",
    "- Does not have many features of server-based RDBMS like users and permissions.\n",
    "    - permissions examples: this user can add data, look at that table, can't delete data, etc.\n",
    "- Great to get up and running quick, not good for complex projects.\n",
    "    - some android apps use it like a fancy, easy to use excel file"
   ]
  },
  {
   "cell_type": "markdown",
   "metadata": {
    "slideshow": {
     "slide_type": "subslide"
    }
   },
   "source": [
    "### MySQL\n",
    "\n",
    "- MySQL is the most popular open source SQL database.\n",
    "    - Oracle recently bought it :/ still free, but haven't done updates or anything since they want you to use their stuff\n",
    "- It is typically used for web application development, and often accessed using PHP. \n",
    "- It is easy to use, inexpensive, reliable and has a large community of developers who can help answer questions.\n",
    "- Open source development has lagged since Oracle has taken control of MySQL.\n",
    "- Has been known to suffer from poor performance when scaling, \n",
    "- Does not include some advanced features that developers may be used to."
   ]
  },
  {
   "cell_type": "markdown",
   "metadata": {
    "slideshow": {
     "slide_type": "subslide"
    }
   },
   "source": [
    "### PostgreSQL\n",
    "\n",
    "- PostgreSQL is an open-source SQL database that is not controlled by any corporation.\n",
    "    - recently become more popular since Oracle bought MySQL\n",
    "- PostgreSQL shares many of the same advantages of MySQL.\n",
    "- It is slower in performance than other databases such as MySQL\n",
    "- Harder to come by hosts or service providers that offer managed PostgreSQL instances. "
   ]
  },
  {
   "cell_type": "markdown",
   "metadata": {
    "slideshow": {
     "slide_type": "subslide"
    }
   },
   "source": [
    "### Oracle DB\n",
    "\n",
    "- Owned by Oracle Corporation, and the code is not open sourced. \n",
    "- Oracle DB is for large applications, particularly in the banking industry. \n",
    "    - has a lot of security features\n",
    "   \n",
    "- The main disadvantage of using Oracle is that it is not free."
   ]
  },
  {
   "cell_type": "markdown",
   "metadata": {
    "slideshow": {
     "slide_type": "subslide"
    }
   },
   "source": [
    "### SQL Server\n",
    "\n",
    "- Microsoft owns SQL Server. \n",
    "- Large enterprise applications mostly use SQL Server.\n",
    "- Microsoft offers a free entry-level version called Express but can become very expensive as you scale your application. "
   ]
  },
  {
   "cell_type": "markdown",
   "metadata": {
    "slideshow": {
     "slide_type": "slide"
    }
   },
   "source": [
    "### What are the major parts of a SQL DB?"
   ]
  },
  {
   "cell_type": "markdown",
   "metadata": {
    "slideshow": {
     "slide_type": "fragment"
    }
   },
   "source": [
    "- Tables\n",
    "- Schema\n",
    "- Indexes\n",
    "- Views\n",
    "- Store Procedures\n",
    "- Triggers"
   ]
  },
  {
   "cell_type": "markdown",
   "metadata": {
    "slideshow": {
     "slide_type": "subslide"
    }
   },
   "source": [
    "#### Tables\n",
    "Tables are used to store data within the database.  They are its main component and without them, the database would serve little purpose. \n",
    "- \"the heart of the DB\"\n"
   ]
  },
  {
   "cell_type": "markdown",
   "metadata": {
    "slideshow": {
     "slide_type": "fragment"
    }
   },
   "source": [
    "- Tables can have hundreds, thousands, sometimes even millions of rows of data. These rows are often called **records**.\n",
    "- The consists of **columns** of data that are labeled with a descriptive name (say, age for example) and have a specific data type.\n",
    "- Never really want to have one table that stores it all -- you want lots of related tables, because otherwise the tables become unweildy and hard to manuever."
   ]
  },
  {
   "cell_type": "markdown",
   "metadata": {
    "slideshow": {
     "slide_type": "subslide"
    }
   },
   "source": [
    "#### Schema\n",
    "A relational database schema helps you to organize and understand the structure of a database. "
   ]
  },
  {
   "cell_type": "markdown",
   "metadata": {
    "slideshow": {
     "slide_type": "fragment"
    }
   },
   "source": [
    "![alt text](images/employees-schema.png)"
   ]
  },
  {
   "cell_type": "markdown",
   "metadata": {},
   "source": [
    "### Entity-Relationship Model\n",
    "\n",
    "Entity-Relationship (ER) Model is based on the notion of real-world entities and relationships among them. While formulating real-world scenario into the database model, the ER Model creates entity set, relationship set, general attributes and constraints.\n"
   ]
  },
  {
   "cell_type": "markdown",
   "metadata": {
    "slideshow": {
     "slide_type": "subslide"
    }
   },
   "source": [
    "<img src=\"images/er_model_intro.png\" >"
   ]
  },
  {
   "cell_type": "markdown",
   "metadata": {
    "slideshow": {
     "slide_type": "fragment"
    }
   },
   "source": [
    "**Entity** − An entity in an ER Model is a real-world entity having properties called attributes. Every attribute is defined by its set of values called domain. For example, in a school database, a student is considered as an entity, with various attributes like name, age, class, etc.\n",
    "\n",
    "**Relationship** − The logical association among entities is called relationship. Relationships are mapped with entities in various ways. \n",
    "\n",
    "**Relationship Mappings** −\n",
    "\n",
    "- one to one\n",
    "- one to many\n",
    "- many to one\n",
    "- many to many\n"
   ]
  },
  {
   "cell_type": "markdown",
   "metadata": {
    "slideshow": {
     "slide_type": "subslide"
    }
   },
   "source": [
    "### Indexes\n",
    "Indexes are used to make data retrieval faster. Rather than having to scan an entire table for data, an index allows the database to, directly retrieve the data being asked of it.\n",
    "\n",
    "- if you're querying your data and it's running slow, add indices! Makes looking through DBs much faster. (sometimes is an interview question!)"
   ]
  },
  {
   "cell_type": "markdown",
   "metadata": {
    "slideshow": {
     "slide_type": "fragment"
    }
   },
   "source": [
    "Indexes are primariy created using using a **Primary Key**.\n",
    "A primary key’s main features are:\n",
    "\n",
    "- It must contain a unique value for each row of data.\n",
    "- It cannot contain null values.\n",
    "\n",
    "A primary key is either an existing table column or a column that is specifically generated by the database according to a defined sequence."
   ]
  },
  {
   "cell_type": "markdown",
   "metadata": {
    "slideshow": {
     "slide_type": "subslide"
    }
   },
   "source": [
    "If you were a tax accountant and you wanted to create a database of your clients, which of the following columns who be a good choice for your primary key?\n",
    "\n",
    "- First Name\n",
    "- Last Name\n",
    "- Email Address\n",
    "- SSN\n",
    "- Phone Number"
   ]
  },
  {
   "cell_type": "markdown",
   "metadata": {
    "slideshow": {
     "slide_type": "subslide"
    }
   },
   "source": [
    "### Views \n",
    "\n",
    "Help combat this issue by allowing the database administrator to create “canned” or pre-built queries.\n",
    "\n",
    "Allow you to pull data from multiple tables together without moving or copying the data."
   ]
  },
  {
   "cell_type": "markdown",
   "metadata": {
    "slideshow": {
     "slide_type": "subslide"
    }
   },
   "source": [
    "### Stored Procedures\n",
    "\n",
    "There are many situations where queries alone are insufficient to solve a problem.  In these cases, developers rely on programming languages to process logic, to loop through records, and perform conditional comparisons as required.  These programs can be stored in the SQL database as stored procedures."
   ]
  },
  {
   "cell_type": "markdown",
   "metadata": {
    "slideshow": {
     "slide_type": "subslide"
    }
   },
   "source": [
    "### Triggers\n",
    "\n",
    "Triggers are special instructions that are executed when important events, such as inserting or updating records in a table happen. The most common triggers are Insert, Update, and Delete triggers.  \n",
    "\n",
    "Two items define a trigger on a table: a stored procedure and an event, such as inserting a record that invokes its execution."
   ]
  },
  {
   "cell_type": "markdown",
   "metadata": {
    "slideshow": {
     "slide_type": "slide"
    }
   },
   "source": [
    "## Working With SQLite"
   ]
  },
  {
   "cell_type": "markdown",
   "metadata": {
    "slideshow": {
     "slide_type": "subslide"
    }
   },
   "source": [
    "SQLite comes standard with Python so all you need to do to get it set up is write:\n",
    "\n",
    "`import sqlite3`"
   ]
  },
  {
   "cell_type": "markdown",
   "metadata": {
    "slideshow": {
     "slide_type": "fragment"
    }
   },
   "source": [
    "There are specific python modules that you can use to work with SQL dbs depending on the DB.\n",
    "\n",
    "- Microsoft SQL = pymssql\n",
    "- Postgres = psycopg2\n",
    "- MySQLdb = MySQLDB\n",
    "\n",
    "You can write sql directly from the terminal too"
   ]
  },
  {
   "cell_type": "markdown",
   "metadata": {
    "slideshow": {
     "slide_type": "subslide"
    }
   },
   "source": [
    "### Creating a Connection\n",
    "\n",
    "Before you can do anything with your DB, you must first create a connection with it. For DBs that are server based, this can be more coplicated requiring you to know the server ip, a username, password database name, and port. \n",
    "``` python \n",
    "import MySQLdb\n",
    "conn = MySQLdb.connect(host=host, user=user, passwd=passwd, db=db)\n",
    "```"
   ]
  },
  {
   "cell_type": "markdown",
   "metadata": {
    "slideshow": {
     "slide_type": "subslide"
    }
   },
   "source": [
    "For SQLite, this is much easier because you just need to access the flat file where the DB is stored. \n",
    "- if it isn't there, then it just creates a DB with that name\n",
    "- a flat file is basically like self contained data not relying on anything else?"
   ]
  },
  {
   "cell_type": "code",
   "execution_count": 1,
   "metadata": {
    "slideshow": {
     "slide_type": "fragment"
    }
   },
   "outputs": [],
   "source": [
    "import sqlite3\n",
    "\n",
    "conn = sqlite3.connect('tutorial.db')\n"
   ]
  },
  {
   "cell_type": "markdown",
   "metadata": {
    "slideshow": {
     "slide_type": "subslide"
    }
   },
   "source": [
    "#### Cursor\n",
    "This temporary work area is used to store the data retrieved from the database, and manipulate this data. \n",
    "\n",
    "A cursor can hold more than one row, but can process only one row at a time. \n",
    "\n",
    "The set of rows the cursor holds is called the active set."
   ]
  },
  {
   "cell_type": "code",
   "execution_count": 2,
   "metadata": {
    "slideshow": {
     "slide_type": "fragment"
    }
   },
   "outputs": [],
   "source": [
    "c = conn.cursor()"
   ]
  },
  {
   "cell_type": "markdown",
   "metadata": {
    "slideshow": {
     "slide_type": "subslide"
    }
   },
   "source": [
    "#### Create a Table\n",
    "Now that we have a connection and a cursor, lets create a table."
   ]
  },
  {
   "cell_type": "markdown",
   "metadata": {
    "slideshow": {
     "slide_type": "subslide"
    }
   },
   "source": [
    "#### SQLite Data Types\n",
    "\n",
    "Any column declared in an SQLite database is assigned a type affinity depending on it declared data type. Here the list of type affinities in SQLite:\n",
    "\n",
    "- TEXT\n",
    "- NUMERIC\n",
    "- INTEGER\n",
    "- REAL\n",
    "- BLOB"
   ]
  },
  {
   "cell_type": "markdown",
   "metadata": {
    "slideshow": {
     "slide_type": "fragment"
    }
   },
   "source": [
    "However, you still can store any type of data as you wish, these types are recommended not required.\n",
    "\n",
    "These types were introduced in SQLite to maximize the compatibility between SQLite and other database management system."
   ]
  },
  {
   "cell_type": "markdown",
   "metadata": {
    "slideshow": {
     "slide_type": "subslide"
    }
   },
   "source": [
    "<img src=\"images/SQLlite_datatype.jpg\" width=450/>"
   ]
  },
  {
   "cell_type": "code",
   "execution_count": 3,
   "metadata": {
    "slideshow": {
     "slide_type": "subslide"
    }
   },
   "outputs": [],
   "source": [
    "create_query = \"\"\"CREATE TABLE IF NOT EXISTS stuffToPlot\n",
    "        (unix REAL, datestamp TEXT, keyword TEXT, value REAL)\"\"\"\n",
    "def create_table(query):\n",
    "    c.execute(query)\n",
    "\n",
    "# This is a good idea! In our labs we've been having to \n",
    "# constantly rewrite our df = pd.DataFrame(...), and that \n",
    "# should've set off a red flag! Create a function going forward."
   ]
  },
  {
   "cell_type": "code",
   "execution_count": 4,
   "metadata": {
    "slideshow": {
     "slide_type": "subslide"
    }
   },
   "outputs": [],
   "source": [
    "insert_query = \"\"\"INSERT INTO stuffToPlot VALUES\n",
    "                (1452549219,'2016-01-11 13:53:39','Python',6)\"\"\"\n",
    "# The three double quotes are there so that you can take a query \n",
    "# and copy it into here or something and not worry about open and\n",
    "# closed quotes\n",
    "\n",
    "def data_entry(query):\n",
    "    c.execute(query)\n",
    "\n",
    "    conn.commit() # save this\n",
    "    \n",
    "def close_c_conn():\n",
    "    c.close()\n",
    "    conn.close()\n",
    "    # These close out your connection to the DB\n",
    "    # Important to do this because if you don't, it can crash, bc \n",
    "    # of too many connections -- after too many, you get frozen out\n",
    "    # of your DB!!"
   ]
  },
  {
   "cell_type": "code",
   "execution_count": 5,
   "metadata": {
    "slideshow": {
     "slide_type": "fragment"
    }
   },
   "outputs": [],
   "source": [
    "create_table(create_query)\n",
    "data_entry(insert_query)\n",
    "\n",
    "close_c_conn()"
   ]
  },
  {
   "cell_type": "markdown",
   "metadata": {
    "slideshow": {
     "slide_type": "subslide"
    }
   },
   "source": [
    "#### Inserting Data dynamically"
   ]
  },
  {
   "cell_type": "code",
   "execution_count": 6,
   "metadata": {
    "slideshow": {
     "slide_type": "fragment"
    }
   },
   "outputs": [],
   "source": [
    "import time\n",
    "import datetime\n",
    "import random"
   ]
  },
  {
   "cell_type": "code",
   "execution_count": 7,
   "metadata": {
    "slideshow": {
     "slide_type": "fragment"
    }
   },
   "outputs": [],
   "source": [
    "conn = sqlite3.connect('tutorial.db')\n",
    "c = conn.cursor()"
   ]
  },
  {
   "cell_type": "code",
   "execution_count": 8,
   "metadata": {
    "slideshow": {
     "slide_type": "subslide"
    }
   },
   "outputs": [],
   "source": [
    "def dynamic_data_entry():\n",
    "\n",
    "    unix = int(time.time())\n",
    "    date = str(datetime.datetime.fromtimestamp(unix).strftime('%Y-%m-%d %H:%M:%S'))\n",
    "    keyword = 'Python'\n",
    "    value = random.randrange(0,10)\n",
    "\n",
    "    c.execute(\"INSERT INTO stuffToPlot (unix, datestamp, keyword, value) VALUES (?, ?, ?, ?)\",\n",
    "          (unix, date, keyword, value))\n",
    "    # (unix, datestamp, ...) explicitly states where to put this new data\n",
    "    # random data inserted where each ? is\n",
    "    \n",
    "    conn.commit()\n",
    "\n",
    "# inserts 10 rows, sleeps for 1 sec so that the values are all different\n",
    "for i in range(10):\n",
    "    dynamic_data_entry()\n",
    "    time.sleep(1)\n",
    "\n",
    "# c.close\n",
    "# conn.close()"
   ]
  },
  {
   "cell_type": "markdown",
   "metadata": {
    "slideshow": {
     "slide_type": "subslide"
    }
   },
   "source": [
    "We can also write a query that reads from the DB"
   ]
  },
  {
   "cell_type": "code",
   "execution_count": 9,
   "metadata": {
    "slideshow": {
     "slide_type": "fragment"
    }
   },
   "outputs": [
    {
     "name": "stdout",
     "output_type": "stream",
     "text": [
      "[(1452549219.0, '2016-01-11 13:53:39', 'Python', 6.0), (1563826442.0, '2019-07-22 16:14:02', 'Python', 0.0), (1563826443.0, '2019-07-22 16:14:03', 'Python', 2.0), (1563826444.0, '2019-07-22 16:14:04', 'Python', 8.0), (1563826445.0, '2019-07-22 16:14:05', 'Python', 8.0), (1563826446.0, '2019-07-22 16:14:06', 'Python', 1.0), (1563826447.0, '2019-07-22 16:14:07', 'Python', 0.0), (1563826448.0, '2019-07-22 16:14:08', 'Python', 1.0), (1563826449.0, '2019-07-22 16:14:09', 'Python', 1.0), (1563826450.0, '2019-07-22 16:14:10', 'Python', 7.0), (1563826451.0, '2019-07-22 16:14:11', 'Python', 9.0), (1452549219.0, '2016-01-11 13:53:39', 'Python', 6.0), (1563828598.0, '2019-07-22 16:49:58', 'Python', 2.0), (1563828599.0, '2019-07-22 16:49:59', 'Python', 5.0), (1563828600.0, '2019-07-22 16:50:00', 'Python', 5.0), (1563828601.0, '2019-07-22 16:50:01', 'Python', 3.0), (1563828602.0, '2019-07-22 16:50:02', 'Python', 5.0), (1563828603.0, '2019-07-22 16:50:03', 'Python', 7.0), (1563828604.0, '2019-07-22 16:50:04', 'Python', 1.0), (1563828605.0, '2019-07-22 16:50:05', 'Python', 8.0), (1563828606.0, '2019-07-22 16:50:06', 'Python', 2.0), (1563828607.0, '2019-07-22 16:50:07', 'Python', 9.0), (1452549219.0, '2016-01-11 13:53:39', 'Python', 6.0), (1563829727.0, '2019-07-22 17:08:47', 'Python', 8.0), (1563829728.0, '2019-07-22 17:08:48', 'Python', 7.0), (1563829729.0, '2019-07-22 17:08:49', 'Python', 9.0), (1563829730.0, '2019-07-22 17:08:50', 'Python', 2.0), (1563829731.0, '2019-07-22 17:08:51', 'Python', 1.0), (1563829732.0, '2019-07-22 17:08:52', 'Python', 2.0), (1563829733.0, '2019-07-22 17:08:53', 'Python', 1.0), (1563829734.0, '2019-07-22 17:08:54', 'Python', 6.0), (1563829735.0, '2019-07-22 17:08:55', 'Python', 9.0), (1563829736.0, '2019-07-22 17:08:56', 'Python', 7.0)]\n",
      "(1452549219.0, '2016-01-11 13:53:39', 'Python', 6.0)\n",
      "(1563826442.0, '2019-07-22 16:14:02', 'Python', 0.0)\n",
      "(1563826443.0, '2019-07-22 16:14:03', 'Python', 2.0)\n",
      "(1563826444.0, '2019-07-22 16:14:04', 'Python', 8.0)\n",
      "(1563826445.0, '2019-07-22 16:14:05', 'Python', 8.0)\n",
      "(1563826446.0, '2019-07-22 16:14:06', 'Python', 1.0)\n",
      "(1563826447.0, '2019-07-22 16:14:07', 'Python', 0.0)\n",
      "(1563826448.0, '2019-07-22 16:14:08', 'Python', 1.0)\n",
      "(1563826449.0, '2019-07-22 16:14:09', 'Python', 1.0)\n",
      "(1563826450.0, '2019-07-22 16:14:10', 'Python', 7.0)\n",
      "(1563826451.0, '2019-07-22 16:14:11', 'Python', 9.0)\n",
      "(1452549219.0, '2016-01-11 13:53:39', 'Python', 6.0)\n",
      "(1563828598.0, '2019-07-22 16:49:58', 'Python', 2.0)\n",
      "(1563828599.0, '2019-07-22 16:49:59', 'Python', 5.0)\n",
      "(1563828600.0, '2019-07-22 16:50:00', 'Python', 5.0)\n",
      "(1563828601.0, '2019-07-22 16:50:01', 'Python', 3.0)\n",
      "(1563828602.0, '2019-07-22 16:50:02', 'Python', 5.0)\n",
      "(1563828603.0, '2019-07-22 16:50:03', 'Python', 7.0)\n",
      "(1563828604.0, '2019-07-22 16:50:04', 'Python', 1.0)\n",
      "(1563828605.0, '2019-07-22 16:50:05', 'Python', 8.0)\n",
      "(1563828606.0, '2019-07-22 16:50:06', 'Python', 2.0)\n",
      "(1563828607.0, '2019-07-22 16:50:07', 'Python', 9.0)\n",
      "(1452549219.0, '2016-01-11 13:53:39', 'Python', 6.0)\n",
      "(1563829727.0, '2019-07-22 17:08:47', 'Python', 8.0)\n",
      "(1563829728.0, '2019-07-22 17:08:48', 'Python', 7.0)\n",
      "(1563829729.0, '2019-07-22 17:08:49', 'Python', 9.0)\n",
      "(1563829730.0, '2019-07-22 17:08:50', 'Python', 2.0)\n",
      "(1563829731.0, '2019-07-22 17:08:51', 'Python', 1.0)\n",
      "(1563829732.0, '2019-07-22 17:08:52', 'Python', 2.0)\n",
      "(1563829733.0, '2019-07-22 17:08:53', 'Python', 1.0)\n",
      "(1563829734.0, '2019-07-22 17:08:54', 'Python', 6.0)\n",
      "(1563829735.0, '2019-07-22 17:08:55', 'Python', 9.0)\n",
      "(1563829736.0, '2019-07-22 17:08:56', 'Python', 7.0)\n"
     ]
    }
   ],
   "source": [
    "def read_from_db():\n",
    "    c.execute('SELECT * FROM stuffToPlot')\n",
    "    data = c.fetchall() # can also do fetchone() to do it one row at a time\n",
    "    print(data)\n",
    "    for row in data:\n",
    "        print(row)\n",
    "\n",
    "read_from_db()"
   ]
  },
  {
   "cell_type": "code",
   "execution_count": 10,
   "metadata": {
    "slideshow": {
     "slide_type": "fragment"
    }
   },
   "outputs": [],
   "source": [
    "close_c_conn()"
   ]
  },
  {
   "cell_type": "markdown",
   "metadata": {
    "slideshow": {
     "slide_type": "slide"
    }
   },
   "source": [
    "### Let's set up a DB fto use later.\n",
    "\n",
    "\n",
    "In the zip folder you have a json file with information about all of the students in this class.  \n",
    "1. Read in the JSON file\n",
    "2. Examine data in file\n",
    "3. Create a table for the data\n",
    "4. Create a function to insert each data entry dynamically\n",
    "5. Insert Data\n",
    "6. Write queries to answer the following questions\n"
   ]
  },
  {
   "cell_type": "markdown",
   "metadata": {
    "slideshow": {
     "slide_type": "subslide"
    }
   },
   "source": [
    "### 1. Read in the JSON file"
   ]
  },
  {
   "cell_type": "code",
   "execution_count": 11,
   "metadata": {
    "slideshow": {
     "slide_type": "fragment"
    }
   },
   "outputs": [],
   "source": [
    "\n",
    "import json\n",
    "f=open('students.json','r')\n",
    "data=json.load(f)"
   ]
  },
  {
   "cell_type": "markdown",
   "metadata": {
    "slideshow": {
     "slide_type": "subslide"
    }
   },
   "source": [
    "### 2. Examine the Data"
   ]
  },
  {
   "cell_type": "code",
   "execution_count": 12,
   "metadata": {
    "scrolled": true,
    "slideshow": {
     "slide_type": "fragment"
    }
   },
   "outputs": [
    {
     "data": {
      "text/plain": [
       "[{'name': 'Sean Abu Wilson',\n",
       "  'birthdate': '02/06',\n",
       "  'siblings': 2,\n",
       "  'Birthplace': 'Birmingham, AL',\n",
       "  'yearsinnyc': 7.8,\n",
       "  'favoritefood': 'guacamole'},\n",
       " {'name': 'Tawab',\n",
       "  'birthdate': '04/08/1998',\n",
       "  'siblings': 4,\n",
       "  'Birthplace': 'Afghanistan',\n",
       "  'yearsinnyc': 0.5,\n",
       "  'favoritefood': 'pizza'},\n",
       " {'name': 'Bridget Boakye',\n",
       "  'birthdate': '1990-07-13',\n",
       "  'siblings': 3,\n",
       "  'Birthplace': 'Accra',\n",
       "  'yearsinnyc': 15,\n",
       "  'favoritefood': 'Indian'},\n",
       " {'name': 'Cristina',\n",
       "  'birthdate': '9/9/1990',\n",
       "  'siblings': 2,\n",
       "  'Birthplace': 'Spain',\n",
       "  'yearsinnyc': 6,\n",
       "  'favoritefood': 'Sushi'},\n",
       " {'name': 'Danny (Haoyang) Yu',\n",
       "  'birthdate': '1997-03-19',\n",
       "  'siblings': 2,\n",
       "  'Birthplace': '1997-03-19',\n",
       "  'yearsinnyc': 0,\n",
       "  'favoritefood': 'Galbi'},\n",
       " {'name': 'Dustin_Breitner',\n",
       "  'birthdate': '04/15/94',\n",
       "  'siblings': 2,\n",
       "  'Birthplace': 'New_York',\n",
       "  'yearsinnyc': 3,\n",
       "  'favoritefood': 'Pizza'},\n",
       " {'name': 'Gregory DeSantis',\n",
       "  'birthdate': '1987-11-23',\n",
       "  'siblings': 2,\n",
       "  'Birthplace': 'Highland Park, NJ',\n",
       "  'yearsinnyc': 13,\n",
       "  'favoritefood': 'Pizza'},\n",
       " {'name': 'Harrison Miller',\n",
       "  'birthdate': '10/2/85',\n",
       "  'siblings': 0,\n",
       "  'Birthplace': 'New Jersey',\n",
       "  'yearsinnyc': 0,\n",
       "  'favoritefood': 'Pizza'},\n",
       " {'name': 'Jeremy Owens',\n",
       "  'birthdate': '03/30/1990',\n",
       "  'siblings': 0,\n",
       "  'Birthplace': 'Virginia',\n",
       "  'yearsinnyc': 6,\n",
       "  'favoritefood': 'Avocado'},\n",
       " {'name': 'Jeremy Reikes',\n",
       "  'birthdate': '1-/12/1995',\n",
       "  'siblings': 1,\n",
       "  'Birthplace': 'New York City',\n",
       "  'yearsinnyc': 23,\n",
       "  'favoritefood': 'Pizza'},\n",
       " {'name': 'Johnathan Peck',\n",
       "  'birthdate': '02-19-1994',\n",
       "  'siblings': 2,\n",
       "  'Birthplace': 'New York',\n",
       "  'yearsinnyc': 25,\n",
       "  'favoritefood': 'Moms food'},\n",
       " {'name': 'Minna F',\n",
       "  'birthdate': '11-19-1996',\n",
       "  'siblings': 3,\n",
       "  'Birthplace': 'San Francisco',\n",
       "  'yearsinnyc': 1,\n",
       "  'favoritefood': 'sushi'},\n",
       " {'name': 'Nabil Abbas',\n",
       "  'birthdate': '12-07-1994',\n",
       "  'siblings': 2,\n",
       "  'Birthplace': 'Long Island',\n",
       "  'yearsinnyc': 6,\n",
       "  'favoritefood': 'Gyro'},\n",
       " {'name': 'Natalie Del Rossi',\n",
       "  'birthdate': '10-23-1994',\n",
       "  'siblings': 0,\n",
       "  'Birthplace': 'Brooklyn',\n",
       "  'yearsinnyc': 18,\n",
       "  'favoritefood': 'pizza'},\n",
       " {'name': 'Remy Canario',\n",
       "  'birthdate': '10-11-1988',\n",
       "  'siblings': 0,\n",
       "  'Birthplace': 'New York',\n",
       "  'yearsinnyc': 28,\n",
       "  'favoritefood': 'toast'},\n",
       " {'name': 'Xristos Katsaros',\n",
       "  'birthdate': '03-24-1986',\n",
       "  'siblings': 1,\n",
       "  'Birthplace': 'Chicago Heights, IL',\n",
       "  'yearsinnyc': 3,\n",
       "  'favoritefood': 'Pizza'}]"
      ]
     },
     "execution_count": 12,
     "metadata": {},
     "output_type": "execute_result"
    }
   ],
   "source": [
    "data"
   ]
  },
  {
   "cell_type": "markdown",
   "metadata": {
    "slideshow": {
     "slide_type": "subslide"
    }
   },
   "source": [
    "### 3. Create a table for the data"
   ]
  },
  {
   "cell_type": "markdown",
   "metadata": {
    "slideshow": {
     "slide_type": "fragment"
    }
   },
   "source": [
    "We want to set up a table to keep track of the following student information:\n",
    "\n",
    "- name\n",
    "- birthdate\n",
    "- number of siblings\n",
    "- birth_place\n",
    "- years_in_nyc\n",
    "- favorite_food"
   ]
  },
  {
   "cell_type": "code",
   "execution_count": 13,
   "metadata": {
    "slideshow": {
     "slide_type": "subslide"
    }
   },
   "outputs": [],
   "source": [
    "conn = sqlite3.connect('tutorial.db')\n",
    "c = conn.cursor()"
   ]
  },
  {
   "cell_type": "code",
   "execution_count": 14,
   "metadata": {
    "slideshow": {
     "slide_type": "fragment"
    }
   },
   "outputs": [],
   "source": [
    "#Write a statement to create a table\n",
    "# think about what datatype you wnat each field to be\n",
    "c.execute('''\n",
    "CREATE TABLE IF NOT EXISTS student_data\n",
    "        (id INTEGER PRIMARY KEY AUTOINCREMENT, \n",
    "         name TEXT, birthdate DATE, siblings INT,  \n",
    "         birth_place TEXT, years_in_nyc REAL, \n",
    "         favorite_food TEXT)\n",
    "''')\n",
    "\n",
    "conn.commit()"
   ]
  },
  {
   "cell_type": "markdown",
   "metadata": {
    "slideshow": {
     "slide_type": "subslide"
    }
   },
   "source": [
    "### 4. Create a function to insert each data entry dynamically"
   ]
  },
  {
   "cell_type": "code",
   "execution_count": 32,
   "metadata": {},
   "outputs": [
    {
     "name": "stdout",
     "output_type": "stream",
     "text": [
      "02-06\n",
      "04-08-1998\n",
      "1990-07-13\n",
      "09-0-1990\n",
      "1997-03-19\n",
      "04-15-94\n",
      "1987-11-23\n",
      "10-0-85\n",
      "03-30-1990\n",
      "1--12-1995\n",
      "02-19-1994\n",
      "11-19-1996\n",
      "12-07-1994\n",
      "10-23-1994\n",
      "10-11-1988\n",
      "03-24-1986\n"
     ]
    }
   ],
   "source": [
    "# reformat birthdays with slashes to dashes\n",
    "for i in data:\n",
    "    i['birthdate'] = i['birthdate'].replace('/', '-')\n",
    "    \n",
    "# trying to put year on the end\n",
    "for i in data:\n",
    "    i['birthdate'].split('-')\n",
    "\n"
   ]
  },
  {
   "cell_type": "code",
   "execution_count": 20,
   "metadata": {
    "slideshow": {
     "slide_type": "fragment"
    }
   },
   "outputs": [
    {
     "data": {
      "text/plain": [
       "[('Hannah', '12-03-1996', 1, 'New York, NY', 22.0, 'pizza')]"
      ]
     },
     "execution_count": 20,
     "metadata": {},
     "output_type": "execute_result"
    }
   ],
   "source": [
    "#Create an insert statement to insert yourself as a record.\n",
    "    \n",
    "c.execute(\"\"\"DELETE FROM student_data \"\"\")\n",
    "\n",
    "def insert_data(i):\n",
    "    c.execute(\"\"\"INSERT INTO student_data (name, birthdate, \n",
    "                                           siblings, birth_place, \n",
    "                                           years_in_nyc, \n",
    "                                           favorite_food) \n",
    "                 VALUES (?, ?, ?, ?, ?, ?)\"\"\", (i['name'], i['birthdate'],\n",
    "                                                i['siblings'], i['Birthplace'],\n",
    "                                                i['yearsinnyc'], \n",
    "                                                i['favoritefood'].lower()\n",
    "                                                ) \n",
    "             )\n",
    "\n",
    "insert_data({'name': 'Hannah',\n",
    "  'birthdate': '12-03-1996',\n",
    "  'siblings': 1,\n",
    "  'Birthplace': 'New York, NY',\n",
    "  'yearsinnyc': 22,\n",
    "  'favoritefood': 'Pizza'})\n",
    "\n",
    "c.execute(\"\"\"SELECT * FROM student_data\"\"\")\n",
    "c.fetchall()"
   ]
  },
  {
   "cell_type": "markdown",
   "metadata": {
    "slideshow": {
     "slide_type": "subslide"
    }
   },
   "source": [
    "### 5. Insert Data\n"
   ]
  },
  {
   "cell_type": "code",
   "execution_count": 21,
   "metadata": {
    "slideshow": {
     "slide_type": "fragment"
    }
   },
   "outputs": [
    {
     "data": {
      "text/plain": [
       "[('Hannah', '12-03-1996', 1, 'New York, NY', 22.0, 'pizza'),\n",
       " ('Sean Abu Wilson', '02-06', 2, 'Birmingham, AL', 7.8, 'guacamole'),\n",
       " ('Tawab', '04-08-1998', 4, 'Afghanistan', 0.5, 'pizza'),\n",
       " ('Bridget Boakye', '1990-07-13', 3, 'Accra', 15.0, 'indian'),\n",
       " ('Cristina', '9-9-1990', 2, 'Spain', 6.0, 'sushi'),\n",
       " ('Danny (Haoyang) Yu', '1997-03-19', 2, '1997-03-19', 0.0, 'galbi'),\n",
       " ('Dustin_Breitner', '04-15-94', 2, 'New_York', 3.0, 'pizza'),\n",
       " ('Gregory DeSantis', '1987-11-23', 2, 'Highland Park, NJ', 13.0, 'pizza'),\n",
       " ('Harrison Miller', '10-2-85', 0, 'New Jersey', 0.0, 'pizza'),\n",
       " ('Jeremy Owens', '03-30-1990', 0, 'Virginia', 6.0, 'avocado'),\n",
       " ('Jeremy Reikes', '1--12-1995', 1, 'New York City', 23.0, 'pizza'),\n",
       " ('Johnathan Peck', '02-19-1994', 2, 'New York', 25.0, 'moms food'),\n",
       " ('Minna F', '11-19-1996', 3, 'San Francisco', 1.0, 'sushi'),\n",
       " ('Nabil Abbas', '12-07-1994', 2, 'Long Island', 6.0, 'gyro'),\n",
       " ('Natalie Del Rossi', '10-23-1994', 0, 'Brooklyn', 18.0, 'pizza'),\n",
       " ('Remy Canario', '10-11-1988', 0, 'New York', 28.0, 'toast'),\n",
       " ('Xristos Katsaros', '03-24-1986', 1, 'Chicago Heights, IL', 3.0, 'pizza')]"
      ]
     },
     "execution_count": 21,
     "metadata": {},
     "output_type": "execute_result"
    }
   ],
   "source": [
    "# write code here\n",
    "\n",
    "for i in data:\n",
    "    insert_data(i)\n",
    "\n",
    "c.execute(\"\"\"SELECT * FROM student_data\"\"\")\n",
    "c.fetchall()"
   ]
  },
  {
   "cell_type": "markdown",
   "metadata": {
    "slideshow": {
     "slide_type": "subslide"
    }
   },
   "source": [
    "### 6. Write queries to answer the following questions"
   ]
  },
  {
   "cell_type": "markdown",
   "metadata": {
    "slideshow": {
     "slide_type": "fragment"
    }
   },
   "source": [
    "### Questions\n",
    "1. Which student was born closest to the cohort's graduation date?\n",
    "2. Which student has the most siblings?\n",
    "3. How many students are only children?\n",
    "4. Which 3 students have lived in NYC the shortest amount of time?\n",
    "5. How many students are native New Yorkers?\n",
    "5. Do any two students have the same favorite food?"
   ]
  },
  {
   "cell_type": "code",
   "execution_count": 18,
   "metadata": {},
   "outputs": [
    {
     "data": {
      "text/plain": [
       "[('02-19-1994',),\n",
       " ('02/06',),\n",
       " ('03-24-1986',),\n",
       " ('03/30/1990',),\n",
       " ('04/08/1998',),\n",
       " ('04/15/94',),\n",
       " ('1-/12/1995',),\n",
       " ('10-11-1988',),\n",
       " ('10-23-1994',),\n",
       " ('10/2/85',),\n",
       " ('11-19-1996',),\n",
       " ('12-03-1996',),\n",
       " ('12-07-1994',),\n",
       " ('1987-11-23',),\n",
       " ('1990-07-13',),\n",
       " ('1997-03-19',),\n",
       " ('9/9/1990',)]"
      ]
     },
     "execution_count": 18,
     "metadata": {},
     "output_type": "execute_result"
    }
   ],
   "source": [
    "# q1 - ????\n",
    "c.execute(\"\"\"SELECT birthdate FROM student_data ORDER BY birthdate\"\"\")\n",
    "c.fetchall()\n",
    "\n",
    "# # q2 -- Tawab with 4 siblings\n",
    "# c.execute(\"\"\"SELECT name, siblings FROM student_data ORDER BY siblings DESC LIMIT 1 \"\"\")\n",
    "# c.fetchall()\n",
    "\n",
    "# # q3 -- 4\n",
    "# c.execute(\"\"\"SELECT COUNT(siblings) FROM student_data WHERE siblings = 0\"\"\")\n",
    "# c.fetchall()\n",
    "\n",
    "# # q4 -- Danny, Harrison, & Tawab\n",
    "# c.execute(\"\"\"SELECT name FROM student_data ORDER BY years_in_nyc LIMIT 3\"\"\")\n",
    "# c.fetchall()\n",
    "\n",
    "# # q5\n",
    "# new_yorkers = ['%New%York%', 'Queens', 'Brooklyn', 'Staten Island', 'the Bronx', ]\n",
    "# c.execute(\"\"\"SELECT COUNT(name), birth_place FROM student_data WHERE birth_place \n",
    "# LIKE '%new%york%' OR birth_place LIKE 'Brooklyn%' OR birth_place LIKE 'Staten%Island%' \n",
    "# OR birth_place LIKE 'Queens%' OR birth_place LIKE '%Bronx%'\"\"\")\n",
    "# c.fetchall()\n",
    "\n",
    "# # q6 -- yes, pizza appears 8 times (6 uppercase, 2 lowercase)\n",
    "# c.execute(\"\"\"SELECT favorite_food,COUNT(favorite_food) FROM student_data GROUP BY favorite_food\"\"\")\n",
    "# c.fetchall()"
   ]
  },
  {
   "cell_type": "code",
   "execution_count": null,
   "metadata": {},
   "outputs": [],
   "source": []
  }
 ],
 "metadata": {
  "celltoolbar": "Slideshow",
  "kernelspec": {
   "display_name": "Python 3",
   "language": "python",
   "name": "python3"
  },
  "language_info": {
   "codemirror_mode": {
    "name": "ipython",
    "version": 3
   },
   "file_extension": ".py",
   "mimetype": "text/x-python",
   "name": "python",
   "nbconvert_exporter": "python",
   "pygments_lexer": "ipython3",
   "version": "3.7.3"
  }
 },
 "nbformat": 4,
 "nbformat_minor": 2
}
