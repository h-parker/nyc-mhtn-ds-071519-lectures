{
 "cells": [
  {
   "cell_type": "markdown",
   "metadata": {},
   "source": [
    "# Yelp API - Lab\n",
    "\n",
    "\n",
    "\n",
    "## Introduction \n",
    "\n",
    "Now that we've seen how the Yelp API works, it's time to put those API and SQL skills to work in order to do some basic business analysis! Taking things a step further, you'll also independently explore how to perform pagination in order to retrieve a full results set from the Yelp API!\n",
    "\n",
    "## Objectives\n",
    "\n",
    "You will be able to:\n",
    "* Create a DB on AWS to store information from Yelp about businesses\n",
    "* Create HTTP requests to get data from Yelp API\n",
    "* Parse HTTP responses and insert the information into your DB\n",
    "* Perform pagination to retrieve troves of data!\n",
    "* Write SQL queries to answer questions about your data \n",
    "\n",
    "Making an ETL pipeline (extract, transform, and load)"
   ]
  },
  {
   "cell_type": "markdown",
   "metadata": {},
   "source": [
    "## Problem Introduction\n",
    "\n",
    "You've now worked with some API calls, but we have yet to see how to retrieve a more complete dataset in a programmatic manner and combine it with our other data skills. In this lab you will get data from the Yelp API, store that data in a SQL Database on AWS, and write queries to answer follow-up questions. \n",
    "\n",
    "\n",
    "The search data is up to you -- the term & location are your call. \n",
    "\n",
    "\n",
    "### Outline:\n",
    "\n",
    "1. Determine which pieces of information you need to pull from the Yelp API. \n",
    "    * look at documentation\n",
    "    * figure out what you'll want to put into your sql database (there's a lot given, and you won't want it all)\n",
    "    * at the very least, you'll want the name and reviews of the business\n",
    "    * the business ID is one thing you'll need to be able to query Yelp for reviews\n",
    "\n",
    "\n",
    "2. Create a DB schema with 2 tables. One for the businesses and one for the reviews.\n",
    "    * Each review will have to be its own row, so you'll have think about 1NL -- each item in a column should be unique (or w/e the phrasing of that rule should be)\n",
    "\n",
    "\n",
    "3. Create Python functions to:\n",
    "  - Perform a search of businesses using pagination\n",
    "  - Parse the API response for specific data points\n",
    "  - Insert the data into your AWS DB\n",
    "  - consider the above functions \"helper functions\" for #4\n",
    "\n",
    "\n",
    "4. Use the functions above in a loop that will paginate over the results to retrieve all of the results.\n",
    "\n",
    "5. Create functions to:\n",
    "  - Retrieve the reviews data of one business\n",
    "  - Parse the reviews response for specific review data\n",
    "  - Insert the review data into the DB\n",
    "  \n",
    "\n",
    "6. Using SQL, query all of the business IDs. Using the 3 Python functions you've created, run your business IDs through a loop to get the reviews for each business and insert them into your DB.\n",
    "\n",
    "7. Write SQL queries to answer the following questions about your data.\n",
    "\n",
    "\n",
    "Bonus Steps:  \n",
    "- Place your helper functions in a package so that your final notebook only has the major steps listed.\n",
    "- Rewrite your business search functions to be able take an argument for the type of business you are searching for.\n",
    "- Add another group of businesses to your database.\n"
   ]
  },
  {
   "cell_type": "markdown",
   "metadata": {},
   "source": [
    " \n",
    "## SQL Questions:\n",
    "\n",
    "- What are the 5 businesses with the highest average ratings?\n",
    "- What are the 5 businesses with the lowest average ratings?\n",
    "- What is the average rating of restaurants that have a price label of one dollar sign? Two dollar signs? Three dollar signs? \n",
    "- How many businesses have a rating above 4.5?\n",
    "- How many businesses have a rating below 3?\n",
    "- Return the text of the oldest review in the table.\n",
    "- Return the overall rating of the business with the oldest review. \n",
    "- Find the highest rated business and return text of the newest review of the three.\n",
    "- Find the lowest rated business and return text of the newest review of the three.  "
   ]
  },
  {
   "cell_type": "markdown",
   "metadata": {},
   "source": [
    "## Part I - Set up the DB\n",
    "\n",
    "Start by reading SQL questions above to get an understanding of the data you will need. Then, read the documentation of Yelp API to understand what data you will receive in the response.  \n",
    "\n",
    "\n",
    "Now that you are familiar with the data, create your SQL queries to create the DB and the appropriate tables. "
   ]
  },
  {
   "cell_type": "code",
   "execution_count": 1,
   "metadata": {},
   "outputs": [],
   "source": [
    "## Connect to DB server on AWS\n",
    "import mysql.connector\n",
    "import config\n",
    "import time\n",
    "\n",
    "cnx = mysql.connector.connect(\n",
    "        host = config.host,\n",
    "        user = config.user,\n",
    "        passwd = config.passwd)\n",
    "\n",
    "cursor = cnx.cursor()"
   ]
  },
  {
   "cell_type": "code",
   "execution_count": 2,
   "metadata": {},
   "outputs": [
    {
     "name": "stdout",
     "output_type": "stream",
     "text": [
      "Failed creating database: 1007 (HY000): Can't create database 'yelp'; database exists\n"
     ]
    }
   ],
   "source": [
    "## Create new DB \n",
    "db_name = 'yelp'\n",
    "\n",
    "def create_database(cursor, database):\n",
    "    try:\n",
    "        #it will try to create a database with whatever name passed through\n",
    "        cursor.execute(\n",
    "            \"CREATE DATABASE {} DEFAULT CHARACTER SET 'utf8'\".format(database))\n",
    "        #if this fails, the error will print out as a message\n",
    "    except mysql.connector.Error as err:\n",
    "        print(\"Failed creating database: {}\".format(err))\n",
    "        exit(1)\n",
    "\n",
    "    #this is going to try the above function \n",
    "    try:\n",
    "        cursor.execute(\"USE {}\".format(db_name))\n",
    "    except mysql.connector.Error as err:\n",
    "        print(\"Database {} does not exists.\".format(db_name))\n",
    "        if err.errno == errorcode.ER_BAD_DB_ERROR:\n",
    "            create_database(cursor, db_name)\n",
    "            print(\"Database {} created successfully.\".format(db_name))\n",
    "            cnx.database = db_name\n",
    "        else:\n",
    "            print(err)\n",
    "            exit(1)\n",
    "\n",
    "#creates yelp db\n",
    "create_database(cursor, db_name)"
   ]
  },
  {
   "cell_type": "code",
   "execution_count": 3,
   "metadata": {},
   "outputs": [],
   "source": [
    "# Create a table for the Businesses\n",
    "# PK for businesses should be business' id\n",
    "\n",
    "TABLES = {}\n",
    "\n",
    "TABLES['businesses'] = (\n",
    "                        \"\"\"CREATE TABLE businesses (\n",
    "                                 businessId VARCHAR(25),\n",
    "                                 name TEXT,\n",
    "                                 price VARCHAR(5),\n",
    "                                 rating REAL,\n",
    "                                 loc_address TEXT,\n",
    "                                 PRIMARY KEY (businessId)\n",
    "                                 ) ENGINE=InnoDB\"\"\")\n",
    "TABLES['reviews'] = (\n",
    "                        \"\"\"CREATE TABLE reviews (\n",
    "                                 reviewId VARCHAR(25),\n",
    "                                 businessId VARCHAR(25),\n",
    "                                 userId VARCHAR(25),\n",
    "                                 preview TEXT,\n",
    "                                 userRating REAL,\n",
    "                                 PRIMARY KEY (reviewId)\n",
    "                                 )ENGINE=InnoDB\"\"\")\n"
   ]
  },
  {
   "cell_type": "code",
   "execution_count": 6,
   "metadata": {},
   "outputs": [
    {
     "name": "stdout",
     "output_type": "stream",
     "text": [
      "Creating table businesses: Cursor is not connected\n",
      "Creating table reviews: Cursor is not connected\n"
     ]
    }
   ],
   "source": [
    "#This adds our tables to the database\n",
    "from mysql.connector import errorcode\n",
    "for table_name in TABLES:\n",
    "    table_description = TABLES[table_name]\n",
    "    try:\n",
    "        print(\"Creating table {}: \".format(table_name), end='')\n",
    "        cursor.execute(table_description)\n",
    "    except mysql.connector.Error as err:\n",
    "        if err.errno == errorcode.ER_TABLE_EXISTS_ERROR:\n",
    "            print(\"already exists.\")\n",
    "        else:\n",
    "            print(err.msg)\n",
    "    else:\n",
    "        print(\"OK\")\n",
    "\n",
    "cursor.close()\n",
    "cnx.close()"
   ]
  },
  {
   "cell_type": "markdown",
   "metadata": {},
   "source": [
    "## Part 2: Create ETL pipeline for the business data from the API"
   ]
  },
  {
   "cell_type": "code",
   "execution_count": 7,
   "metadata": {},
   "outputs": [
    {
     "name": "stdout",
     "output_type": "stream",
     "text": [
      "{'businesses': [{'id': 'jjJc_CrkB2HodEinB6cWww', 'alias': 'lovemama-new-york', 'name': 'LoveMama', 'image_url': 'https://s3-media1.fl.yelpcdn.com/bphoto/bLlFKTlVuLfmF-lIDGIjZA/o.jpg', 'is_closed': False, 'url': 'https://www.yelp.com/biz/lovemama-new-york?adjust_creative=Q0o6644AtYBVMqGZUHAx-w&utm_campaign=yelp_api_v3&utm_medium=api_v3_business_search&utm_source=Q0o6644AtYBVMqGZUHAx-w', 'review_count': 4387, 'categories': [{'alias': 'thai', 'title': 'Thai'}, {'alias': 'malaysian', 'title': 'Malaysian'}, {'alias': 'vietnamese', 'title': 'Vietnamese'}], 'rating': 4.0, 'coordinates': {'latitude': 40.7303859, 'longitude': -73.9860613}, 'transactions': ['delivery', 'restaurant_reservation', 'pickup'], 'price': '$$', 'location': {'address1': '174 2nd Ave', 'address2': '', 'address3': '', 'city': 'New York', 'zip_code': '10003', 'country': 'US', 'state': 'NY', 'display_address': ['174 2nd Ave', 'New York, NY 10003']}, 'phone': '+12122545370', 'display_phone': '(212) 254-5370', 'distance': 2858.7729410008346}, {'id': 'B3_K2kUVbYOU0VaLcj_LTw', 'alias': 'thai-villa-new-york-2', 'name': 'Thai Villa', 'image_url': 'https://s3-media1.fl.yelpcdn.com/bphoto/OgCU9NPFIl8hF_04Zani9w/o.jpg', 'is_closed': False, 'url': 'https://www.yelp.com/biz/thai-villa-new-york-2?adjust_creative=Q0o6644AtYBVMqGZUHAx-w&utm_campaign=yelp_api_v3&utm_medium=api_v3_business_search&utm_source=Q0o6644AtYBVMqGZUHAx-w', 'review_count': 2713, 'categories': [{'alias': 'thai', 'title': 'Thai'}, {'alias': 'asianfusion', 'title': 'Asian Fusion'}, {'alias': 'vegetarian', 'title': 'Vegetarian'}], 'rating': 4.5, 'coordinates': {'latitude': 40.73902, 'longitude': -73.99065}, 'transactions': ['delivery', 'pickup'], 'price': '$$', 'location': {'address1': '5 E 19th St', 'address2': 'G Floor', 'address3': '', 'city': 'New York', 'zip_code': '10003', 'country': 'US', 'state': 'NY', 'display_address': ['5 E 19th St', 'G Floor', 'New York, NY 10003']}, 'phone': '+12128029999', 'display_phone': '(212) 802-9999', 'distance': 3744.570399827637}, {'id': '9WgsvzaiXNAmmQGD0uQxFQ', 'alias': 'thai-holic-fort-greene', 'name': 'Thai Holic', 'image_url': 'https://s3-media4.fl.yelpcdn.com/bphoto/iUqXan4GX7zWw8U7agjZBQ/o.jpg', 'is_closed': False, 'url': 'https://www.yelp.com/biz/thai-holic-fort-greene?adjust_creative=Q0o6644AtYBVMqGZUHAx-w&utm_campaign=yelp_api_v3&utm_medium=api_v3_business_search&utm_source=Q0o6644AtYBVMqGZUHAx-w', 'review_count': 374, 'categories': [{'alias': 'thai', 'title': 'Thai'}, {'alias': 'salad', 'title': 'Salad'}], 'rating': 4.5, 'coordinates': {'latitude': 40.692989, 'longitude': -73.971282}, 'transactions': ['delivery', 'pickup'], 'price': '$$', 'location': {'address1': '372 Myrtle Ave', 'address2': '', 'address3': '', 'city': 'Fort Greene', 'zip_code': '11205', 'country': 'US', 'state': 'NY', 'display_address': ['372 Myrtle Ave', 'Fort Greene, NY 11205']}, 'phone': '+17182229992', 'display_phone': '(718) 222-9992', 'distance': 2383.918795620265}, {'id': '-OixbLnFLCzQclxCSbUQ8w', 'alias': 'up-thai-new-york', 'name': 'Up Thai', 'image_url': 'https://s3-media3.fl.yelpcdn.com/bphoto/g9J3naudQZY72qJAHUOI8A/o.jpg', 'is_closed': False, 'url': 'https://www.yelp.com/biz/up-thai-new-york?adjust_creative=Q0o6644AtYBVMqGZUHAx-w&utm_campaign=yelp_api_v3&utm_medium=api_v3_business_search&utm_source=Q0o6644AtYBVMqGZUHAx-w', 'review_count': 2073, 'categories': [{'alias': 'thai', 'title': 'Thai'}, {'alias': 'asianfusion', 'title': 'Asian Fusion'}], 'rating': 4.5, 'coordinates': {'latitude': 40.7698275926665, 'longitude': -73.9576330868512}, 'transactions': ['delivery', 'pickup'], 'price': '$$', 'location': {'address1': '1411 2nd Ave', 'address2': '', 'address3': '', 'city': 'New York', 'zip_code': '10021', 'country': 'US', 'state': 'NY', 'display_address': ['1411 2nd Ave', 'New York, NY 10021']}, 'phone': '+12122561188', 'display_phone': '(212) 256-1188', 'distance': 7796.9126757590075}, {'id': 'wGFSTTB6b4MHJJUzBnVJeg', 'alias': 'top-thai-greenwich-new-york', 'name': 'Top Thai Greenwich', 'image_url': 'https://s3-media4.fl.yelpcdn.com/bphoto/4xK8iIj2rZrRvP9MMG7yOA/o.jpg', 'is_closed': False, 'url': 'https://www.yelp.com/biz/top-thai-greenwich-new-york?adjust_creative=Q0o6644AtYBVMqGZUHAx-w&utm_campaign=yelp_api_v3&utm_medium=api_v3_business_search&utm_source=Q0o6644AtYBVMqGZUHAx-w', 'review_count': 1176, 'categories': [{'alias': 'thai', 'title': 'Thai'}, {'alias': 'cocktailbars', 'title': 'Cocktail Bars'}, {'alias': 'halal', 'title': 'Halal'}], 'rating': 4.5, 'coordinates': {'latitude': 40.72977, 'longitude': -73.99939}, 'transactions': ['delivery', 'pickup'], 'price': '$$', 'location': {'address1': '235 Sullivan St', 'address2': '', 'address3': None, 'city': 'New York', 'zip_code': '10012', 'country': 'US', 'state': 'NY', 'display_address': ['235 Sullivan St', 'New York, NY 10012']}, 'phone': '+16467264418', 'display_phone': '(646) 726-4418', 'distance': 2739.489773141031}, {'id': 'MhceeLrM2_3mcKw5EGLY6A', 'alias': 'pure-thai-cookhouse-new-york', 'name': 'Pure Thai Cookhouse', 'image_url': 'https://s3-media2.fl.yelpcdn.com/bphoto/QFYS-7MPGlOjUUy_2TkwLw/o.jpg', 'is_closed': False, 'url': 'https://www.yelp.com/biz/pure-thai-cookhouse-new-york?adjust_creative=Q0o6644AtYBVMqGZUHAx-w&utm_campaign=yelp_api_v3&utm_medium=api_v3_business_search&utm_source=Q0o6644AtYBVMqGZUHAx-w', 'review_count': 2421, 'categories': [{'alias': 'thai', 'title': 'Thai'}, {'alias': 'noodles', 'title': 'Noodles'}, {'alias': 'chicken_wings', 'title': 'Chicken Wings'}], 'rating': 4.0, 'coordinates': {'latitude': 40.764291, 'longitude': -73.988159}, 'transactions': ['delivery', 'pickup'], 'price': '$$', 'location': {'address1': '766 9th Ave', 'address2': '', 'address3': '', 'city': 'New York', 'zip_code': '10019', 'country': 'US', 'state': 'NY', 'display_address': ['766 9th Ave', 'New York, NY 10019']}, 'phone': '+12125810999', 'display_phone': '(212) 581-0999', 'distance': 6563.765009094688}, {'id': '0GftSP2dRwEzujkv2VKIgA', 'alias': 'wok-wok-new-york', 'name': 'Wok Wok', 'image_url': 'https://s3-media4.fl.yelpcdn.com/bphoto/6oKmNAJiYRln7GNXhf2lsg/o.jpg', 'is_closed': False, 'url': 'https://www.yelp.com/biz/wok-wok-new-york?adjust_creative=Q0o6644AtYBVMqGZUHAx-w&utm_campaign=yelp_api_v3&utm_medium=api_v3_business_search&utm_source=Q0o6644AtYBVMqGZUHAx-w', 'review_count': 819, 'categories': [{'alias': 'chinese', 'title': 'Chinese'}, {'alias': 'malaysian', 'title': 'Malaysian'}, {'alias': 'thai', 'title': 'Thai'}], 'rating': 4.0, 'coordinates': {'latitude': 40.71406, 'longitude': -73.99883}, 'transactions': ['delivery', 'restaurant_reservation', 'pickup'], 'price': '$$', 'location': {'address1': '11 Mott St', 'address2': None, 'address3': '', 'city': 'New York', 'zip_code': '10013', 'country': 'US', 'state': 'NY', 'display_address': ['11 Mott St', 'New York, NY 10013']}, 'phone': '+19173883627', 'display_phone': '(917) 388-3627', 'distance': 1033.5545870381047}, {'id': 'dqjko5ndMGayALuhwq3ghQ', 'alias': 'thailicious-les-new-york-2', 'name': 'Thailicious LES', 'image_url': 'https://s3-media1.fl.yelpcdn.com/bphoto/-dXPaqnJ-GmlVEhpF0BnfQ/o.jpg', 'is_closed': False, 'url': 'https://www.yelp.com/biz/thailicious-les-new-york-2?adjust_creative=Q0o6644AtYBVMqGZUHAx-w&utm_campaign=yelp_api_v3&utm_medium=api_v3_business_search&utm_source=Q0o6644AtYBVMqGZUHAx-w', 'review_count': 33, 'categories': [{'alias': 'thai', 'title': 'Thai'}, {'alias': 'noodles', 'title': 'Noodles'}], 'rating': 4.5, 'coordinates': {'latitude': 40.71927, 'longitude': -73.98509}, 'transactions': [], 'price': '$$', 'location': {'address1': '71 Clinton St', 'address2': '', 'address3': None, 'city': 'New York', 'zip_code': '10002', 'country': 'US', 'state': 'NY', 'display_address': ['71 Clinton St', 'New York, NY 10002']}, 'phone': '+16468820343', 'display_phone': '(646) 882-0343', 'distance': 1715.2935292450331}, {'id': 'liZmIO0FqZwslLJfLDkfgw', 'alias': 'wayla-new-york', 'name': 'Wayla', 'image_url': 'https://s3-media1.fl.yelpcdn.com/bphoto/yBit_0zvgEKMxoo3Iojm6Q/o.jpg', 'is_closed': False, 'url': 'https://www.yelp.com/biz/wayla-new-york?adjust_creative=Q0o6644AtYBVMqGZUHAx-w&utm_campaign=yelp_api_v3&utm_medium=api_v3_business_search&utm_source=Q0o6644AtYBVMqGZUHAx-w', 'review_count': 82, 'categories': [{'alias': 'thai', 'title': 'Thai'}], 'rating': 4.5, 'coordinates': {'latitude': 40.71828, 'longitude': -73.99275}, 'transactions': [], 'price': '$$', 'location': {'address1': '100 Forsyth St', 'address2': 'Basement', 'address3': None, 'city': 'New York', 'zip_code': '10002', 'country': 'US', 'state': 'NY', 'display_address': ['100 Forsyth St', 'Basement', 'New York, NY 10002']}, 'phone': '+12122062500', 'display_phone': '(212) 206-2500', 'distance': 1434.861491555901}, {'id': 'qrydcGQpeDP_1oFvx3qOeg', 'alias': 'somtum-der-new-york', 'name': 'Somtum Der', 'image_url': 'https://s3-media3.fl.yelpcdn.com/bphoto/giFkadYsfXdwaTHyQVQ9OA/o.jpg', 'is_closed': False, 'url': 'https://www.yelp.com/biz/somtum-der-new-york?adjust_creative=Q0o6644AtYBVMqGZUHAx-w&utm_campaign=yelp_api_v3&utm_medium=api_v3_business_search&utm_source=Q0o6644AtYBVMqGZUHAx-w', 'review_count': 674, 'categories': [{'alias': 'thai', 'title': 'Thai'}], 'rating': 4.0, 'coordinates': {'latitude': 40.7252151982238, 'longitude': -73.9842741682317}, 'transactions': ['delivery', 'pickup'], 'price': '$$', 'location': {'address1': '85 Ave A', 'address2': '', 'address3': '', 'city': 'New York', 'zip_code': '10009', 'country': 'US', 'state': 'NY', 'display_address': ['85 Ave A', 'New York, NY 10009']}, 'phone': '+12122608570', 'display_phone': '(212) 260-8570', 'distance': 2354.956408341586}, {'id': 'RrPIJvmje1qb9iaYd6jH0g', 'alias': 'pinto-restaurant-brooklyn-heights-2', 'name': 'Pinto Restaurant', 'image_url': 'https://s3-media3.fl.yelpcdn.com/bphoto/Eg7l9UQyTopTGMX59u2hww/o.jpg', 'is_closed': False, 'url': 'https://www.yelp.com/biz/pinto-restaurant-brooklyn-heights-2?adjust_creative=Q0o6644AtYBVMqGZUHAx-w&utm_campaign=yelp_api_v3&utm_medium=api_v3_business_search&utm_source=Q0o6644AtYBVMqGZUHAx-w', 'review_count': 208, 'categories': [{'alias': 'thai', 'title': 'Thai'}, {'alias': 'desserts', 'title': 'Desserts'}, {'alias': 'seafood', 'title': 'Seafood'}], 'rating': 4.0, 'coordinates': {'latitude': 40.6947735368336, 'longitude': -73.9943484261754}, 'transactions': ['delivery', 'pickup'], 'price': '$$', 'location': {'address1': '128 Montague St', 'address2': '', 'address3': '', 'city': 'Brooklyn Heights', 'zip_code': '11201', 'country': 'US', 'state': 'NY', 'display_address': ['128 Montague St', 'Brooklyn Heights, NY 11201']}, 'phone': '+19293377732', 'display_phone': '(929) 337-7732', 'distance': 1186.6053037950712}, {'id': 'm6bu1AGIIIM9GNn9_cjsmg', 'alias': 'uncle-boons-new-york-2', 'name': 'Uncle Boons', 'image_url': 'https://s3-media1.fl.yelpcdn.com/bphoto/GA6eegGE3AA1g-u5ywZ8vw/o.jpg', 'is_closed': False, 'url': 'https://www.yelp.com/biz/uncle-boons-new-york-2?adjust_creative=Q0o6644AtYBVMqGZUHAx-w&utm_campaign=yelp_api_v3&utm_medium=api_v3_business_search&utm_source=Q0o6644AtYBVMqGZUHAx-w', 'review_count': 857, 'categories': [{'alias': 'thai', 'title': 'Thai'}], 'rating': 4.0, 'coordinates': {'latitude': 40.7211328622237, 'longitude': -73.9943286309159}, 'transactions': [], 'price': '$$$', 'location': {'address1': '7 Spring St', 'address2': None, 'address3': '', 'city': 'New York', 'zip_code': '10012', 'country': 'US', 'state': 'NY', 'display_address': ['7 Spring St', 'New York, NY 10012']}, 'phone': '+16463706650', 'display_phone': '(646) 370-6650', 'distance': 1744.4263815276815}, {'id': 'liGIz8CzhyS1udx1aefjng', 'alias': 'williamsburg-thai-cuisine-brooklyn', 'name': 'Williamsburg Thai Cuisine', 'image_url': 'https://s3-media3.fl.yelpcdn.com/bphoto/3y-j4udfDJPqZEkFA0FZ0Q/o.jpg', 'is_closed': False, 'url': 'https://www.yelp.com/biz/williamsburg-thai-cuisine-brooklyn?adjust_creative=Q0o6644AtYBVMqGZUHAx-w&utm_campaign=yelp_api_v3&utm_medium=api_v3_business_search&utm_source=Q0o6644AtYBVMqGZUHAx-w', 'review_count': 199, 'categories': [{'alias': 'thai', 'title': 'Thai'}], 'rating': 4.0, 'coordinates': {'latitude': 40.71699, 'longitude': -73.9588799}, 'transactions': ['delivery', 'pickup'], 'price': '$$', 'location': {'address1': '212 Bedford Ave', 'address2': None, 'address3': '', 'city': 'Brooklyn', 'zip_code': '11249', 'country': 'US', 'state': 'NY', 'display_address': ['212 Bedford Ave', 'Brooklyn, NY 11249']}, 'phone': '+19293377651', 'display_phone': '(929) 337-7651', 'distance': 3250.468442566167}, {'id': 'O1fUmxt3kbV-rnyjBtzAfw', 'alias': 'thep-thai-restaurant-new-york-5', 'name': 'THEP Thai Restaurant', 'image_url': 'https://s3-media3.fl.yelpcdn.com/bphoto/WymEpZCm4CPRTeVHXVyzXQ/o.jpg', 'is_closed': False, 'url': 'https://www.yelp.com/biz/thep-thai-restaurant-new-york-5?adjust_creative=Q0o6644AtYBVMqGZUHAx-w&utm_campaign=yelp_api_v3&utm_medium=api_v3_business_search&utm_source=Q0o6644AtYBVMqGZUHAx-w', 'review_count': 543, 'categories': [{'alias': 'thai', 'title': 'Thai'}, {'alias': 'noodles', 'title': 'Noodles'}, {'alias': 'asianfusion', 'title': 'Asian Fusion'}], 'rating': 4.5, 'coordinates': {'latitude': 40.77078, 'longitude': -73.95727}, 'transactions': ['delivery', 'pickup'], 'price': '$$', 'location': {'address1': '1439 2nd Ave', 'address2': '', 'address3': None, 'city': 'New York', 'zip_code': '10021', 'country': 'US', 'state': 'NY', 'display_address': ['1439 2nd Ave', 'New York, NY 10021']}, 'phone': '+12128999995', 'display_phone': '(212) 899-9995', 'distance': 7905.296713584707}, {'id': '0L03onqNwxWLrbb_FCK79A', 'alias': 'sripraphai-thai-restaurant-woodside', 'name': 'SriPraPhai Thai Restaurant', 'image_url': 'https://s3-media1.fl.yelpcdn.com/bphoto/DBYmdu8aWPzPWKJzvPm-aQ/o.jpg', 'is_closed': False, 'url': 'https://www.yelp.com/biz/sripraphai-thai-restaurant-woodside?adjust_creative=Q0o6644AtYBVMqGZUHAx-w&utm_campaign=yelp_api_v3&utm_medium=api_v3_business_search&utm_source=Q0o6644AtYBVMqGZUHAx-w', 'review_count': 2261, 'categories': [{'alias': 'thai', 'title': 'Thai'}], 'rating': 4.0, 'coordinates': {'latitude': 40.7464987, 'longitude': -73.8992328}, 'transactions': [], 'price': '$$', 'location': {'address1': '64-13 39th Ave', 'address2': '', 'address3': '', 'city': 'Woodside', 'zip_code': '11377', 'country': 'US', 'state': 'NY', 'display_address': ['64-13 39th Ave', 'Woodside, NY 11377']}, 'phone': '+17188999599', 'display_phone': '(718) 899-9599', 'distance': 9219.94935152076}, {'id': '5ZjNZd3Yg0jOkJ9WRx1r6g', 'alias': 'kor-tor-mor-brooklyn', 'name': 'Kor Tor Mor', 'image_url': 'https://s3-media3.fl.yelpcdn.com/bphoto/g8vp1MFooFU7-mUZbnjOAQ/o.jpg', 'is_closed': False, 'url': 'https://www.yelp.com/biz/kor-tor-mor-brooklyn?adjust_creative=Q0o6644AtYBVMqGZUHAx-w&utm_campaign=yelp_api_v3&utm_medium=api_v3_business_search&utm_source=Q0o6644AtYBVMqGZUHAx-w', 'review_count': 215, 'categories': [{'alias': 'thai', 'title': 'Thai'}, {'alias': 'noodles', 'title': 'Noodles'}, {'alias': 'soup', 'title': 'Soup'}], 'rating': 4.0, 'coordinates': {'latitude': 40.6846634, 'longitude': -73.9918633}, 'transactions': ['delivery', 'pickup'], 'price': '$$', 'location': {'address1': '204 Smith St', 'address2': '', 'address3': '', 'city': 'Brooklyn', 'zip_code': '11201', 'country': 'US', 'state': 'NY', 'display_address': ['204 Smith St', 'Brooklyn, NY 11201']}, 'phone': '+17187975100', 'display_phone': '(718) 797-5100', 'distance': 2319.8537216888553}, {'id': 'kpR9je2H9MjKz6zpesyV6g', 'alias': 'thailicious-new-york', 'name': 'Thailicious', 'image_url': 'https://s3-media4.fl.yelpcdn.com/bphoto/WCINRqFjVDBxaTkefyQV_g/o.jpg', 'is_closed': False, 'url': 'https://www.yelp.com/biz/thailicious-new-york?adjust_creative=Q0o6644AtYBVMqGZUHAx-w&utm_campaign=yelp_api_v3&utm_medium=api_v3_business_search&utm_source=Q0o6644AtYBVMqGZUHAx-w', 'review_count': 269, 'categories': [{'alias': 'thai', 'title': 'Thai'}], 'rating': 4.0, 'coordinates': {'latitude': 40.7162609, 'longitude': -73.9999063}, 'transactions': ['delivery', 'pickup'], 'price': '$$', 'location': {'address1': '75 Baxter St', 'address2': None, 'address3': '', 'city': 'New York', 'zip_code': '10013', 'country': 'US', 'state': 'NY', 'display_address': ['75 Baxter St', 'New York, NY 10013']}, 'phone': '+19172612733', 'display_phone': '(917) 261-2733', 'distance': 1294.1263527323606}, {'id': 'VoAuIReq_cPUrFwxbWqG_Q', 'alias': 'salathai-restaurant-new-york', 'name': 'SalaThai Restaurant', 'image_url': 'https://s3-media1.fl.yelpcdn.com/bphoto/gQD3p-ftQ1oKvwDcNcZj6w/o.jpg', 'is_closed': False, 'url': 'https://www.yelp.com/biz/salathai-restaurant-new-york?adjust_creative=Q0o6644AtYBVMqGZUHAx-w&utm_campaign=yelp_api_v3&utm_medium=api_v3_business_search&utm_source=Q0o6644AtYBVMqGZUHAx-w', 'review_count': 235, 'categories': [{'alias': 'thai', 'title': 'Thai'}], 'rating': 4.5, 'coordinates': {'latitude': 40.7801199, 'longitude': -73.98032}, 'transactions': ['delivery', 'pickup'], 'price': '$$', 'location': {'address1': '307 Amsterdam Ave', 'address2': '', 'address3': '', 'city': 'New York', 'zip_code': '10023', 'country': 'US', 'state': 'NY', 'display_address': ['307 Amsterdam Ave', 'New York, NY 10023']}, 'phone': '+12124333999', 'display_phone': '(212) 433-3999', 'distance': 8383.821131514791}, {'id': 'Nvhx093-K2xwHIZVnFstJw', 'alias': 'copper-throat-thai-cuisine-new-york', 'name': 'Copper Throat Thai Cuisine', 'image_url': 'https://s3-media1.fl.yelpcdn.com/bphoto/kchLigC5aStBdTVDMAOwYA/o.jpg', 'is_closed': False, 'url': 'https://www.yelp.com/biz/copper-throat-thai-cuisine-new-york?adjust_creative=Q0o6644AtYBVMqGZUHAx-w&utm_campaign=yelp_api_v3&utm_medium=api_v3_business_search&utm_source=Q0o6644AtYBVMqGZUHAx-w', 'review_count': 81, 'categories': [{'alias': 'thai', 'title': 'Thai'}], 'rating': 4.5, 'coordinates': {'latitude': 40.71978, 'longitude': -73.98877}, 'transactions': ['delivery', 'pickup'], 'price': '$$', 'location': {'address1': '123 Ludlow St', 'address2': '', 'address3': None, 'city': 'New York', 'zip_code': '10002', 'country': 'US', 'state': 'NY', 'display_address': ['123 Ludlow St', 'New York, NY 10002']}, 'phone': '+19172617891', 'display_phone': '(917) 261-7891', 'distance': 1659.8055641258015}, {'id': 'e64Y17DJgjotSz8B9gEI7Q', 'alias': 'ugly-baby-brooklyn-3', 'name': 'Ugly Baby', 'image_url': 'https://s3-media2.fl.yelpcdn.com/bphoto/mjNOsYOYaOHrT3B6caarGg/o.jpg', 'is_closed': False, 'url': 'https://www.yelp.com/biz/ugly-baby-brooklyn-3?adjust_creative=Q0o6644AtYBVMqGZUHAx-w&utm_campaign=yelp_api_v3&utm_medium=api_v3_business_search&utm_source=Q0o6644AtYBVMqGZUHAx-w', 'review_count': 268, 'categories': [{'alias': 'thai', 'title': 'Thai'}, {'alias': 'bars', 'title': 'Bars'}], 'rating': 4.5, 'coordinates': {'latitude': 40.67795, 'longitude': -73.9961}, 'transactions': [], 'price': '$$', 'location': {'address1': '407 Smith St', 'address2': None, 'address3': '', 'city': 'Brooklyn', 'zip_code': '11231', 'country': 'US', 'state': 'NY', 'display_address': ['407 Smith St', 'Brooklyn, NY 11231']}, 'phone': '+13476893075', 'display_phone': '(347) 689-3075', 'distance': 3067.1882609950244}, {'id': '83BXSwE0166sObnXLUE4bQ', 'alias': 'land-new-york', 'name': 'Land', 'image_url': 'https://s3-media2.fl.yelpcdn.com/bphoto/-bMKPwWvUjhQoadEGRH1-A/o.jpg', 'is_closed': False, 'url': 'https://www.yelp.com/biz/land-new-york?adjust_creative=Q0o6644AtYBVMqGZUHAx-w&utm_campaign=yelp_api_v3&utm_medium=api_v3_business_search&utm_source=Q0o6644AtYBVMqGZUHAx-w', 'review_count': 1028, 'categories': [{'alias': 'thai', 'title': 'Thai'}], 'rating': 4.0, 'coordinates': {'latitude': 40.78497, 'longitude': -73.9772182}, 'transactions': ['delivery', 'pickup'], 'price': '$$', 'location': {'address1': '450 Amsterdam Ave', 'address2': None, 'address3': '', 'city': 'New York', 'zip_code': '10024', 'country': 'US', 'state': 'NY', 'display_address': ['450 Amsterdam Ave', 'New York, NY 10024']}, 'phone': '+12125018121', 'display_phone': '(212) 501-8121', 'distance': 8959.014790043642}, {'id': 'IGjdEM0s4WfOYrMSzO6q9Q', 'alias': 'krok-brooklyn-brooklyn-2', 'name': 'KROK Brooklyn', 'image_url': 'https://s3-media3.fl.yelpcdn.com/bphoto/ls0mavpDweeBwjdk7Bd2Dg/o.jpg', 'is_closed': False, 'url': 'https://www.yelp.com/biz/krok-brooklyn-brooklyn-2?adjust_creative=Q0o6644AtYBVMqGZUHAx-w&utm_campaign=yelp_api_v3&utm_medium=api_v3_business_search&utm_source=Q0o6644AtYBVMqGZUHAx-w', 'review_count': 44, 'categories': [{'alias': 'thai', 'title': 'Thai'}], 'rating': 4.5, 'coordinates': {'latitude': 40.68761, 'longitude': -74.0013}, 'transactions': ['delivery', 'pickup'], 'price': '$$', 'location': {'address1': '117 Columbia St', 'address2': None, 'address3': '', 'city': 'Brooklyn', 'zip_code': '11231', 'country': 'US', 'state': 'NY', 'display_address': ['117 Columbia St', 'Brooklyn, NY 11231']}, 'phone': '+17188588898', 'display_phone': '(718) 858-8898', 'distance': 2071.219798410784}, {'id': 'p2zm0HnXZkI2yCAuYLb45g', 'alias': 'thai-market-new-york', 'name': 'Thai Market', 'image_url': 'https://s3-media2.fl.yelpcdn.com/bphoto/jPGJaYsRiU_se_UJzphxkQ/o.jpg', 'is_closed': False, 'url': 'https://www.yelp.com/biz/thai-market-new-york?adjust_creative=Q0o6644AtYBVMqGZUHAx-w&utm_campaign=yelp_api_v3&utm_medium=api_v3_business_search&utm_source=Q0o6644AtYBVMqGZUHAx-w', 'review_count': 963, 'categories': [{'alias': 'thai', 'title': 'Thai'}, {'alias': 'noodles', 'title': 'Noodles'}, {'alias': 'soup', 'title': 'Soup'}], 'rating': 4.0, 'coordinates': {'latitude': 40.80132, 'longitude': -73.96529}, 'transactions': [], 'price': '$$', 'location': {'address1': '960 Amsterdam Ave', 'address2': '', 'address3': '', 'city': 'New York', 'zip_code': '10025', 'country': 'US', 'state': 'NY', 'display_address': ['960 Amsterdam Ave', 'New York, NY 10025']}, 'phone': '+12122804575', 'display_phone': '(212) 280-4575', 'distance': 10940.010065176182}, {'id': 'n20BmzZ-KGd0RCKcPGRv1A', 'alias': 'klom-klorm-brooklyn', 'name': 'Klom Klorm', 'image_url': 'https://s3-media1.fl.yelpcdn.com/bphoto/f-_r3gI_kI1H9J7JRXrzcg/o.jpg', 'is_closed': False, 'url': 'https://www.yelp.com/biz/klom-klorm-brooklyn?adjust_creative=Q0o6644AtYBVMqGZUHAx-w&utm_campaign=yelp_api_v3&utm_medium=api_v3_business_search&utm_source=Q0o6644AtYBVMqGZUHAx-w', 'review_count': 173, 'categories': [{'alias': 'thai', 'title': 'Thai'}], 'rating': 4.5, 'coordinates': {'latitude': 40.70318, 'longitude': -73.91701}, 'transactions': ['delivery', 'pickup'], 'price': '$$', 'location': {'address1': '181 Wyckoff Ave', 'address2': '', 'address3': None, 'city': 'Brooklyn', 'zip_code': '11237', 'country': 'US', 'state': 'NY', 'display_address': ['181 Wyckoff Ave', 'Brooklyn, NY 11237']}, 'phone': '+17184899188', 'display_phone': '(718) 489-9188', 'distance': 6517.2874846716195}, {'id': 'cegA4jf16vEt7NCQ7cpu2w', 'alias': 'kind-fresh-meadows', 'name': \"Kin'd\", 'image_url': 'https://s3-media4.fl.yelpcdn.com/bphoto/tKRpJeYI8yZ-J1ddzMJEFQ/o.jpg', 'is_closed': False, 'url': 'https://www.yelp.com/biz/kind-fresh-meadows?adjust_creative=Q0o6644AtYBVMqGZUHAx-w&utm_campaign=yelp_api_v3&utm_medium=api_v3_business_search&utm_source=Q0o6644AtYBVMqGZUHAx-w', 'review_count': 500, 'categories': [{'alias': 'thai', 'title': 'Thai'}], 'rating': 4.5, 'coordinates': {'latitude': 40.73031, 'longitude': -73.77814}, 'transactions': ['delivery', 'pickup'], 'price': '$$', 'location': {'address1': '192-03 Union Tpke', 'address2': '', 'address3': None, 'city': 'Fresh Meadows', 'zip_code': '11366', 'country': 'US', 'state': 'NY', 'display_address': ['192-03 Union Tpke', 'Fresh Meadows, NY 11366']}, 'phone': '+17184680888', 'display_phone': '(718) 468-0888', 'distance': 18401.011784437622}, {'id': 'gLkrR9ZDPKfUGv-fYsEr3g', 'alias': 'luis-thai-food-new-york', 'name': \"Lui's Thai Food\", 'image_url': 'https://s3-media2.fl.yelpcdn.com/bphoto/B9qWET5ztSyRrSe2mmKifw/o.jpg', 'is_closed': False, 'url': 'https://www.yelp.com/biz/luis-thai-food-new-york?adjust_creative=Q0o6644AtYBVMqGZUHAx-w&utm_campaign=yelp_api_v3&utm_medium=api_v3_business_search&utm_source=Q0o6644AtYBVMqGZUHAx-w', 'review_count': 242, 'categories': [{'alias': 'thai', 'title': 'Thai'}], 'rating': 4.0, 'coordinates': {'latitude': 40.7252464294434, 'longitude': -73.9875869750977}, 'transactions': ['delivery', 'pickup'], 'price': '$$', 'location': {'address1': '128 E 4th St', 'address2': '', 'address3': '', 'city': 'New York', 'zip_code': '10003', 'country': 'US', 'state': 'NY', 'display_address': ['128 E 4th St', 'New York, NY 10003']}, 'phone': '+16466699310', 'display_phone': '(646) 669-9310', 'distance': 2275.8417143260435}, {'id': 'UC3n_0vZ5zI1fvi7UzNZAg', 'alias': 'sabai-thai-restaurant-new-york-3', 'name': 'Sabai Thai Restaurant', 'image_url': 'https://s3-media3.fl.yelpcdn.com/bphoto/wonI_0tyDMiG8mtg8iqV_w/o.jpg', 'is_closed': False, 'url': 'https://www.yelp.com/biz/sabai-thai-restaurant-new-york-3?adjust_creative=Q0o6644AtYBVMqGZUHAx-w&utm_campaign=yelp_api_v3&utm_medium=api_v3_business_search&utm_source=Q0o6644AtYBVMqGZUHAx-w', 'review_count': 202, 'categories': [{'alias': 'thai', 'title': 'Thai'}, {'alias': 'vegetarian', 'title': 'Vegetarian'}], 'rating': 4.5, 'coordinates': {'latitude': 40.74422, 'longitude': -73.98365}, 'transactions': ['delivery', 'pickup'], 'price': '$$', 'location': {'address1': '432 Park Ave S', 'address2': None, 'address3': '', 'city': 'New York', 'zip_code': '10016', 'country': 'US', 'state': 'NY', 'display_address': ['432 Park Ave S', 'New York, NY 10016']}, 'phone': '+16464764521', 'display_phone': '(646) 476-4521', 'distance': 4412.21786588836}, {'id': 'KHdYPT0jUnUGdHGaY73mxg', 'alias': 'sukhumvit-51-new-york', 'name': 'Sukhumvit 51', 'image_url': 'https://s3-media2.fl.yelpcdn.com/bphoto/3uPIYfm-rY9OsKo5O4gKwg/o.jpg', 'is_closed': False, 'url': 'https://www.yelp.com/biz/sukhumvit-51-new-york?adjust_creative=Q0o6644AtYBVMqGZUHAx-w&utm_campaign=yelp_api_v3&utm_medium=api_v3_business_search&utm_source=Q0o6644AtYBVMqGZUHAx-w', 'review_count': 702, 'categories': [{'alias': 'thai', 'title': 'Thai'}], 'rating': 4.0, 'coordinates': {'latitude': 40.7559139831703, 'longitude': -73.9693867939228}, 'transactions': ['delivery', 'pickup'], 'price': '$$', 'location': {'address1': '224 E 51st St', 'address2': '', 'address3': '', 'city': 'New York', 'zip_code': '10022', 'country': 'US', 'state': 'NY', 'display_address': ['224 E 51st St', 'New York, NY 10022']}, 'phone': '+12128888894', 'display_phone': '(212) 888-8894', 'distance': 5991.479858543423}, {'id': 'RdGWCbcxA79G1ZMPVL3SGQ', 'alias': 'nora-thai-brooklyn-4', 'name': 'Nora Thai', 'image_url': 'https://s3-media1.fl.yelpcdn.com/bphoto/SgilMcXDxjGDdf6I6TO9Zg/o.jpg', 'is_closed': False, 'url': 'https://www.yelp.com/biz/nora-thai-brooklyn-4?adjust_creative=Q0o6644AtYBVMqGZUHAx-w&utm_campaign=yelp_api_v3&utm_medium=api_v3_business_search&utm_source=Q0o6644AtYBVMqGZUHAx-w', 'review_count': 33, 'categories': [{'alias': 'thai', 'title': 'Thai'}, {'alias': 'lounges', 'title': 'Lounges'}, {'alias': 'noodles', 'title': 'Noodles'}], 'rating': 4.0, 'coordinates': {'latitude': 40.71864, 'longitude': -73.95625}, 'transactions': [], 'price': '$$', 'location': {'address1': '176 N 9th St', 'address2': None, 'address3': '', 'city': 'Brooklyn', 'zip_code': '11211', 'country': 'US', 'state': 'NY', 'display_address': ['176 N 9th St', 'Brooklyn, NY 11211']}, 'phone': '+17183021499', 'display_phone': '(718) 302-1499', 'distance': 3511.550118914059}, {'id': 'a-Bq_yXFVk2PptoWpmry3w', 'alias': 'pye-boat-noodle-astoria', 'name': 'Pye Boat Noodle', 'image_url': 'https://s3-media2.fl.yelpcdn.com/bphoto/WeJ3uMxRRS13QsuImevx7A/o.jpg', 'is_closed': False, 'url': 'https://www.yelp.com/biz/pye-boat-noodle-astoria?adjust_creative=Q0o6644AtYBVMqGZUHAx-w&utm_campaign=yelp_api_v3&utm_medium=api_v3_business_search&utm_source=Q0o6644AtYBVMqGZUHAx-w', 'review_count': 740, 'categories': [{'alias': 'thai', 'title': 'Thai'}, {'alias': 'noodles', 'title': 'Noodles'}], 'rating': 4.0, 'coordinates': {'latitude': 40.76043, 'longitude': -73.92152}, 'transactions': [], 'price': '$$', 'location': {'address1': '35-13 Broadway', 'address2': '', 'address3': '', 'city': 'Astoria', 'zip_code': '11106', 'country': 'US', 'state': 'NY', 'display_address': ['35-13 Broadway', 'Astoria, NY 11106']}, 'phone': '+17186852329', 'display_phone': '(718) 685-2329', 'distance': 8656.427099874069}, {'id': 'WJS06XxRdc6DD1s4LWE9HA', 'alias': 'fish-cheeks-new-york', 'name': 'Fish Cheeks', 'image_url': 'https://s3-media2.fl.yelpcdn.com/bphoto/pqupe3fe52869QQ23KkiBg/o.jpg', 'is_closed': False, 'url': 'https://www.yelp.com/biz/fish-cheeks-new-york?adjust_creative=Q0o6644AtYBVMqGZUHAx-w&utm_campaign=yelp_api_v3&utm_medium=api_v3_business_search&utm_source=Q0o6644AtYBVMqGZUHAx-w', 'review_count': 413, 'categories': [{'alias': 'seafood', 'title': 'Seafood'}, {'alias': 'thai', 'title': 'Thai'}, {'alias': 'raw_food', 'title': 'Live/Raw Food'}], 'rating': 4.5, 'coordinates': {'latitude': 40.7258, 'longitude': -73.9927}, 'transactions': ['delivery', 'pickup'], 'price': '$$', 'location': {'address1': '55 Bond St', 'address2': '', 'address3': None, 'city': 'New York', 'zip_code': '10012', 'country': 'US', 'state': 'NY', 'display_address': ['55 Bond St', 'New York, NY 10012']}, 'phone': '+12126772223', 'display_phone': '(212) 677-2223', 'distance': 2258.7720584764224}, {'id': 'fRO4Fwe5uRAajMcTwLbVkA', 'alias': 'ayada-thai-elmhurst', 'name': 'Ayada Thai', 'image_url': 'https://s3-media2.fl.yelpcdn.com/bphoto/qybFSiSVmsTTXx5fmX3BNQ/o.jpg', 'is_closed': False, 'url': 'https://www.yelp.com/biz/ayada-thai-elmhurst?adjust_creative=Q0o6644AtYBVMqGZUHAx-w&utm_campaign=yelp_api_v3&utm_medium=api_v3_business_search&utm_source=Q0o6644AtYBVMqGZUHAx-w', 'review_count': 1099, 'categories': [{'alias': 'thai', 'title': 'Thai'}], 'rating': 4.0, 'coordinates': {'latitude': 40.7433662414551, 'longitude': -73.8876037597656}, 'transactions': ['delivery', 'pickup'], 'price': '$$', 'location': {'address1': '7708 Woodside Ave', 'address2': '', 'address3': '', 'city': 'Elmhurst', 'zip_code': '11373', 'country': 'US', 'state': 'NY', 'display_address': ['7708 Woodside Ave', 'Elmhurst, NY 11373']}, 'phone': '+17184240844', 'display_phone': '(718) 424-0844', 'distance': 9933.20870507791}, {'id': 'IdHZfmpp8MmQ4_KZL2qXbg', 'alias': 'makiinny-new-york-3', 'name': 'MAKIINNY', 'image_url': 'https://s3-media2.fl.yelpcdn.com/bphoto/DZJT80Vr7kUgiafyL_VbHg/o.jpg', 'is_closed': False, 'url': 'https://www.yelp.com/biz/makiinny-new-york-3?adjust_creative=Q0o6644AtYBVMqGZUHAx-w&utm_campaign=yelp_api_v3&utm_medium=api_v3_business_search&utm_source=Q0o6644AtYBVMqGZUHAx-w', 'review_count': 24, 'categories': [{'alias': 'thai', 'title': 'Thai'}, {'alias': 'noodles', 'title': 'Noodles'}], 'rating': 5.0, 'coordinates': {'latitude': 40.72831, 'longitude': -73.98914}, 'transactions': ['delivery', 'pickup'], 'location': {'address1': '32 E7th St', 'address2': 'Front 2', 'address3': '', 'city': 'New York', 'zip_code': '10003', 'country': 'US', 'state': 'NY', 'display_address': ['32 E7th St', 'Front 2', 'New York, NY 10003']}, 'phone': '+12126734610', 'display_phone': '(212) 673-4610', 'distance': 2566.784676576643}, {'id': 'pSSajdYNKTyAGV8-fk7fWQ', 'alias': 'joya-brooklyn', 'name': 'Joya', 'image_url': 'https://s3-media4.fl.yelpcdn.com/bphoto/X4HbR16EFVcywHtrW7BPqQ/o.jpg', 'is_closed': False, 'url': 'https://www.yelp.com/biz/joya-brooklyn?adjust_creative=Q0o6644AtYBVMqGZUHAx-w&utm_campaign=yelp_api_v3&utm_medium=api_v3_business_search&utm_source=Q0o6644AtYBVMqGZUHAx-w', 'review_count': 1270, 'categories': [{'alias': 'thai', 'title': 'Thai'}], 'rating': 3.5, 'coordinates': {'latitude': 40.6866607666016, 'longitude': -73.9934997558594}, 'transactions': ['delivery', 'pickup'], 'price': '$$', 'location': {'address1': '215 Ct St', 'address2': '', 'address3': '', 'city': 'Brooklyn', 'zip_code': '11201', 'country': 'US', 'state': 'NY', 'display_address': ['215 Ct St', 'Brooklyn, NY 11201']}, 'phone': '+17182223484', 'display_phone': '(718) 222-3484', 'distance': 2087.041238313192}, {'id': '0fjab0vzFgIQ-FKzjFR7JQ', 'alias': 'dannee-brooklyn-2', 'name': 'Dannee', 'image_url': 'https://s3-media2.fl.yelpcdn.com/bphoto/s3ZBXr6jvtzo0--HV9saaQ/o.jpg', 'is_closed': False, 'url': 'https://www.yelp.com/biz/dannee-brooklyn-2?adjust_creative=Q0o6644AtYBVMqGZUHAx-w&utm_campaign=yelp_api_v3&utm_medium=api_v3_business_search&utm_source=Q0o6644AtYBVMqGZUHAx-w', 'review_count': 121, 'categories': [{'alias': 'thai', 'title': 'Thai'}], 'rating': 4.0, 'coordinates': {'latitude': 40.69048, 'longitude': -73.96006}, 'transactions': ['delivery', 'pickup'], 'price': '$$', 'location': {'address1': '433 Dekalb Ave', 'address2': None, 'address3': '', 'city': 'Brooklyn', 'zip_code': '11205', 'country': 'US', 'state': 'NY', 'display_address': ['433 Dekalb Ave', 'Brooklyn, NY 11205']}, 'phone': '+17186224422', 'display_phone': '(718) 622-4422', 'distance': 3331.3437393495988}, {'id': 'feY7PgoRjCp2qReaIitRkQ', 'alias': 'boran-brooklyn-2', 'name': 'Boran', 'image_url': 'https://s3-media4.fl.yelpcdn.com/bphoto/L-Ph-TW2sP2Jh3S0h_1q-g/o.jpg', 'is_closed': False, 'url': 'https://www.yelp.com/biz/boran-brooklyn-2?adjust_creative=Q0o6644AtYBVMqGZUHAx-w&utm_campaign=yelp_api_v3&utm_medium=api_v3_business_search&utm_source=Q0o6644AtYBVMqGZUHAx-w', 'review_count': 116, 'categories': [{'alias': 'thai', 'title': 'Thai'}], 'rating': 4.5, 'coordinates': {'latitude': 40.67825, 'longitude': -73.99816}, 'transactions': ['delivery', 'pickup'], 'price': '$$', 'location': {'address1': '462 Court St', 'address2': None, 'address3': '', 'city': 'Brooklyn', 'zip_code': '11231', 'country': 'US', 'state': 'NY', 'display_address': ['462 Court St', 'Brooklyn, NY 11231']}, 'phone': '+17184900207', 'display_phone': '(718) 490-0207', 'distance': 3043.202876016889}, {'id': 'O8i5XlvcfzH1q-wpfURrpg', 'alias': 'ayada-thai-new-york-2', 'name': 'Ayada Thai', 'image_url': 'https://s3-media3.fl.yelpcdn.com/bphoto/nUWxLUolUc4JDjhbQxH_bA/o.jpg', 'is_closed': False, 'url': 'https://www.yelp.com/biz/ayada-thai-new-york-2?adjust_creative=Q0o6644AtYBVMqGZUHAx-w&utm_campaign=yelp_api_v3&utm_medium=api_v3_business_search&utm_source=Q0o6644AtYBVMqGZUHAx-w', 'review_count': 12, 'categories': [{'alias': 'thai', 'title': 'Thai'}], 'rating': 4.0, 'coordinates': {'latitude': 40.74222, 'longitude': -74.00466}, 'transactions': [], 'location': {'address1': '75 9th Ave', 'address2': '', 'address3': None, 'city': 'New York', 'zip_code': '10011', 'country': 'US', 'state': 'NY', 'display_address': ['75 9th Ave', 'New York, NY 10011']}, 'phone': '+12126459445', 'display_phone': '(212) 645-9445', 'distance': 4230.664650709593}, {'id': 'NN3mOWF5e_pnR1ArqM2bHQ', 'alias': 'obao-new-york-3', 'name': 'OBAO', 'image_url': 'https://s3-media4.fl.yelpcdn.com/bphoto/CpVI2XJLrvg09Fm83bfPog/o.jpg', 'is_closed': False, 'url': 'https://www.yelp.com/biz/obao-new-york-3?adjust_creative=Q0o6644AtYBVMqGZUHAx-w&utm_campaign=yelp_api_v3&utm_medium=api_v3_business_search&utm_source=Q0o6644AtYBVMqGZUHAx-w', 'review_count': 2265, 'categories': [{'alias': 'vietnamese', 'title': 'Vietnamese'}, {'alias': 'thai', 'title': 'Thai'}, {'alias': 'asianfusion', 'title': 'Asian Fusion'}], 'rating': 4.0, 'coordinates': {'latitude': 40.7606544, 'longitude': -73.991332}, 'transactions': ['delivery', 'pickup'], 'price': '$$', 'location': {'address1': '647 9th Ave', 'address2': '', 'address3': '', 'city': 'New York', 'zip_code': '10036', 'country': 'US', 'state': 'NY', 'display_address': ['647 9th Ave', 'New York, NY 10036']}, 'phone': '+12122458880', 'display_phone': '(212) 245-8880', 'distance': 6144.081737145313}, {'id': 'SBy46BviyBKowPjbTjDsHQ', 'alias': 'lantern-brooklyn', 'name': 'Lantern', 'image_url': 'https://s3-media4.fl.yelpcdn.com/bphoto/YwkmxTrk3iZOELiCLfwecA/o.jpg', 'is_closed': False, 'url': 'https://www.yelp.com/biz/lantern-brooklyn?adjust_creative=Q0o6644AtYBVMqGZUHAx-w&utm_campaign=yelp_api_v3&utm_medium=api_v3_business_search&utm_source=Q0o6644AtYBVMqGZUHAx-w', 'review_count': 441, 'categories': [{'alias': 'thai', 'title': 'Thai'}], 'rating': 3.5, 'coordinates': {'latitude': 40.69533, 'longitude': -73.99544}, 'transactions': ['delivery', 'pickup'], 'price': '$$', 'location': {'address1': '101 Montague St', 'address2': None, 'address3': '', 'city': 'Brooklyn', 'zip_code': '11201', 'country': 'US', 'state': 'NY', 'display_address': ['101 Montague St', 'Brooklyn, NY 11201']}, 'phone': '+17182372594', 'display_phone': '(718) 237-2594', 'distance': 1132.8854453675879}, {'id': '2-z6dRAkKupCyz1LF251pQ', 'alias': 'jintana-thai-farmhouse-brooklyn', 'name': 'Jintana Thai Farmhouse', 'image_url': 'https://s3-media3.fl.yelpcdn.com/bphoto/ppHyWBclQHGxX4D03QCkdw/o.jpg', 'is_closed': False, 'url': 'https://www.yelp.com/biz/jintana-thai-farmhouse-brooklyn?adjust_creative=Q0o6644AtYBVMqGZUHAx-w&utm_campaign=yelp_api_v3&utm_medium=api_v3_business_search&utm_source=Q0o6644AtYBVMqGZUHAx-w', 'review_count': 11, 'categories': [{'alias': 'thai', 'title': 'Thai'}], 'rating': 5.0, 'coordinates': {'latitude': 40.666597, 'longitude': -73.98211}, 'transactions': [], 'location': {'address1': '344 7th Ave', 'address2': '', 'address3': None, 'city': 'Brooklyn', 'zip_code': '11215', 'country': 'US', 'state': 'NY', 'display_address': ['344 7th Ave', 'Brooklyn, NY 11215']}, 'phone': '+17187881922', 'display_phone': '(718) 788-1922', 'distance': 4440.148596602936}, {'id': '3GMHPnrkFAcqffw3T7JSdQ', 'alias': 'kitchen-79-jackson-heights', 'name': 'Kitchen 79', 'image_url': 'https://s3-media3.fl.yelpcdn.com/bphoto/ip9F8-pOstZmt7_8T_46Jg/o.jpg', 'is_closed': False, 'url': 'https://www.yelp.com/biz/kitchen-79-jackson-heights?adjust_creative=Q0o6644AtYBVMqGZUHAx-w&utm_campaign=yelp_api_v3&utm_medium=api_v3_business_search&utm_source=Q0o6644AtYBVMqGZUHAx-w', 'review_count': 564, 'categories': [{'alias': 'thai', 'title': 'Thai'}], 'rating': 4.5, 'coordinates': {'latitude': 40.747551, 'longitude': -73.8868866}, 'transactions': ['delivery', 'pickup'], 'price': '$$', 'location': {'address1': '37-70 79th St', 'address2': '', 'address3': '', 'city': 'Jackson Heights', 'zip_code': '11372', 'country': 'US', 'state': 'NY', 'display_address': ['37-70 79th St', 'Jackson Heights, NY 11372']}, 'phone': '+17188036227', 'display_phone': '(718) 803-6227', 'distance': 10188.414233766554}, {'id': 'UO4kyXfdQIlAhM-TRgM9cw', 'alias': 'look-by-plant-love-house-brooklyn-2', 'name': 'Look By Plant Love House', 'image_url': 'https://s3-media3.fl.yelpcdn.com/bphoto/Mvx6ONrNJHgVhnqHxsxo6w/o.jpg', 'is_closed': False, 'url': 'https://www.yelp.com/biz/look-by-plant-love-house-brooklyn-2?adjust_creative=Q0o6644AtYBVMqGZUHAx-w&utm_campaign=yelp_api_v3&utm_medium=api_v3_business_search&utm_source=Q0o6644AtYBVMqGZUHAx-w', 'review_count': 298, 'categories': [{'alias': 'thai', 'title': 'Thai'}, {'alias': 'desserts', 'title': 'Desserts'}], 'rating': 4.0, 'coordinates': {'latitude': 40.67987, 'longitude': -73.96433}, 'transactions': ['delivery', 'pickup'], 'price': '$$', 'location': {'address1': '622 Washington Ave', 'address2': '', 'address3': '', 'city': 'Brooklyn', 'zip_code': '11238', 'country': 'US', 'state': 'NY', 'display_address': ['622 Washington Ave', 'Brooklyn, NY 11238']}, 'phone': '+17186220026', 'display_phone': '(718) 622-0026', 'distance': 3802.7633253145073}, {'id': 'f7jZvRH-h76F4emzvKytaQ', 'alias': 'tuk-tuk-long-island-city', 'name': 'Tuk Tuk', 'image_url': 'https://s3-media1.fl.yelpcdn.com/bphoto/r_ALzLJ-56hQq6Wvk9jwFA/o.jpg', 'is_closed': False, 'url': 'https://www.yelp.com/biz/tuk-tuk-long-island-city?adjust_creative=Q0o6644AtYBVMqGZUHAx-w&utm_campaign=yelp_api_v3&utm_medium=api_v3_business_search&utm_source=Q0o6644AtYBVMqGZUHAx-w', 'review_count': 656, 'categories': [{'alias': 'thai', 'title': 'Thai'}], 'rating': 4.0, 'coordinates': {'latitude': 40.743232, 'longitude': -73.954254}, 'transactions': ['delivery', 'pickup'], 'price': '$$', 'location': {'address1': '4906 Vernon Blvd', 'address2': None, 'address3': '', 'city': 'Long Island City', 'zip_code': '11101', 'country': 'US', 'state': 'NY', 'display_address': ['4906 Vernon Blvd', 'Long Island City, NY 11101']}, 'phone': '+17184725597', 'display_phone': '(718) 472-5597', 'distance': 5389.827078491865}, {'id': 'EbX_9tqAJs4gW51gZpOB7g', 'alias': 'rasa-new-york', 'name': 'Rasa', 'image_url': 'https://s3-media4.fl.yelpcdn.com/bphoto/3WhLSoWj5fByW_mH8t59uw/o.jpg', 'is_closed': False, 'url': 'https://www.yelp.com/biz/rasa-new-york?adjust_creative=Q0o6644AtYBVMqGZUHAx-w&utm_campaign=yelp_api_v3&utm_medium=api_v3_business_search&utm_source=Q0o6644AtYBVMqGZUHAx-w', 'review_count': 650, 'categories': [{'alias': 'malaysian', 'title': 'Malaysian'}, {'alias': 'thai', 'title': 'Thai'}, {'alias': 'singaporean', 'title': 'Singaporean'}], 'rating': 4.0, 'coordinates': {'latitude': 40.7327654, 'longitude': -73.9975674}, 'transactions': ['delivery', 'restaurant_reservation', 'pickup'], 'price': '$$', 'location': {'address1': '25 W 8th St', 'address2': None, 'address3': '', 'city': 'New York', 'zip_code': '10011', 'country': 'US', 'state': 'NY', 'display_address': ['25 W 8th St', 'New York, NY 10011']}, 'phone': '+12122541888', 'display_phone': '(212) 254-1888', 'distance': 3050.407691012176}, {'id': '43r4ynjeIZeQI1w7SWARuQ', 'alias': 'topaz-noodle-bar-new-york', 'name': 'Topaz Noodle Bar', 'image_url': 'https://s3-media3.fl.yelpcdn.com/bphoto/fH4T7mjC4PGAuMxv0NdkSQ/o.jpg', 'is_closed': False, 'url': 'https://www.yelp.com/biz/topaz-noodle-bar-new-york?adjust_creative=Q0o6644AtYBVMqGZUHAx-w&utm_campaign=yelp_api_v3&utm_medium=api_v3_business_search&utm_source=Q0o6644AtYBVMqGZUHAx-w', 'review_count': 583, 'categories': [{'alias': 'thai', 'title': 'Thai'}, {'alias': 'noodles', 'title': 'Noodles'}], 'rating': 4.0, 'coordinates': {'latitude': 40.7644424438477, 'longitude': -73.9789733886719}, 'transactions': ['delivery', 'restaurant_reservation', 'pickup'], 'price': '$$', 'location': {'address1': '129 W 56th St', 'address2': '', 'address3': '', 'city': 'New York', 'zip_code': '10019', 'country': 'US', 'state': 'NY', 'display_address': ['129 W 56th St', 'New York, NY 10019']}, 'phone': '+12122472277', 'display_phone': '(212) 247-2277', 'distance': 6684.695336166718}, {'id': '-YazuZbXAM_NOny8LpLQpQ', 'alias': 'bkny-thai-restaurant-bayside', 'name': 'BKNY Thai Restaurant', 'image_url': 'https://s3-media3.fl.yelpcdn.com/bphoto/glVWdfDHW-eu4KhXWP3QMw/o.jpg', 'is_closed': False, 'url': 'https://www.yelp.com/biz/bkny-thai-restaurant-bayside?adjust_creative=Q0o6644AtYBVMqGZUHAx-w&utm_campaign=yelp_api_v3&utm_medium=api_v3_business_search&utm_source=Q0o6644AtYBVMqGZUHAx-w', 'review_count': 1194, 'categories': [{'alias': 'thai', 'title': 'Thai'}, {'alias': 'seafood', 'title': 'Seafood'}, {'alias': 'soup', 'title': 'Soup'}], 'rating': 4.0, 'coordinates': {'latitude': 40.7530184239866, 'longitude': -73.780074009384}, 'transactions': [], 'price': '$$', 'location': {'address1': '47-11 Francis Lewis Blvd', 'address2': None, 'address3': '', 'city': 'Bayside', 'zip_code': '11361', 'country': 'US', 'state': 'NY', 'display_address': ['47-11 Francis Lewis Blvd', 'Bayside, NY 11361']}, 'phone': '+17182811900', 'display_phone': '(718) 281-1900', 'distance': 18810.035380216672}, {'id': '_Ge2eC89Z-jlaDDWglfT8g', 'alias': 'pa-pa-thai-cuisine-new-york', 'name': 'Pa Pa Thai Cuisine', 'image_url': 'https://s3-media2.fl.yelpcdn.com/bphoto/lqsTITD_-GYC7BB8cUr9RQ/o.jpg', 'is_closed': False, 'url': 'https://www.yelp.com/biz/pa-pa-thai-cuisine-new-york?adjust_creative=Q0o6644AtYBVMqGZUHAx-w&utm_campaign=yelp_api_v3&utm_medium=api_v3_business_search&utm_source=Q0o6644AtYBVMqGZUHAx-w', 'review_count': 176, 'categories': [{'alias': 'thai', 'title': 'Thai'}, {'alias': 'chinese', 'title': 'Chinese'}, {'alias': 'salad', 'title': 'Salad'}], 'rating': 4.5, 'coordinates': {'latitude': 40.7593778206059, 'longitude': -73.9624154842934}, 'transactions': ['delivery', 'pickup'], 'price': '$$', 'location': {'address1': '1069 1st Ave', 'address2': '', 'address3': None, 'city': 'New York', 'zip_code': '10022', 'country': 'US', 'state': 'NY', 'display_address': ['1069 1st Ave', 'New York, NY 10022']}, 'phone': '+12127529277', 'display_phone': '(212) 752-9277', 'distance': 6571.103078001443}, {'id': 'najYre0PPSx7-Tbg6bjObg', 'alias': 'samui-brooklyn', 'name': 'SAMUI', 'image_url': 'https://s3-media2.fl.yelpcdn.com/bphoto/Ya0_8OovkSeAqrMvpSKSfQ/o.jpg', 'is_closed': False, 'url': 'https://www.yelp.com/biz/samui-brooklyn?adjust_creative=Q0o6644AtYBVMqGZUHAx-w&utm_campaign=yelp_api_v3&utm_medium=api_v3_business_search&utm_source=Q0o6644AtYBVMqGZUHAx-w', 'review_count': 157, 'categories': [{'alias': 'thai', 'title': 'Thai'}, {'alias': 'asianfusion', 'title': 'Asian Fusion'}, {'alias': 'seafood', 'title': 'Seafood'}], 'rating': 4.0, 'coordinates': {'latitude': 40.6974, 'longitude': -73.97039}, 'transactions': ['delivery', 'pickup'], 'price': '$$', 'location': {'address1': '15 Vanderbilt Ave', 'address2': None, 'address3': '', 'city': 'Brooklyn', 'zip_code': '11205', 'country': 'US', 'state': 'NY', 'display_address': ['15 Vanderbilt Ave', 'Brooklyn, NY 11205']}, 'phone': '+19179091032', 'display_phone': '(917) 909-1032', 'distance': 2203.7943754603893}, {'id': 'xSrEOf3Ht7eK5sUpReAGkQ', 'alias': 'miss-thailand-brooklyn', 'name': 'Miss Thailand', 'image_url': 'https://s3-media2.fl.yelpcdn.com/bphoto/31kebW-C-X4QHYXlnG9pXQ/o.jpg', 'is_closed': False, 'url': 'https://www.yelp.com/biz/miss-thailand-brooklyn?adjust_creative=Q0o6644AtYBVMqGZUHAx-w&utm_campaign=yelp_api_v3&utm_medium=api_v3_business_search&utm_source=Q0o6644AtYBVMqGZUHAx-w', 'review_count': 94, 'categories': [{'alias': 'thai', 'title': 'Thai'}], 'rating': 4.5, 'coordinates': {'latitude': 40.71471, 'longitude': -73.94414}, 'transactions': ['delivery', 'pickup'], 'price': '$$', 'location': {'address1': '346 Graham Ave', 'address2': '', 'address3': None, 'city': 'Brooklyn', 'zip_code': '11211', 'country': 'US', 'state': 'NY', 'display_address': ['346 Graham Ave', 'Brooklyn, NY 11211']}, 'phone': '+13472944491', 'display_phone': '(347) 294-4491', 'distance': 4348.049166237598}, {'id': 'Wq9cARVEwOmoqfg41mNRNg', 'alias': 'noree-thai-bazaar-new-york', 'name': 'Noree Thai Bazaar', 'image_url': 'https://s3-media2.fl.yelpcdn.com/bphoto/JlIfm3fCao8uY4XiTpb2gQ/o.jpg', 'is_closed': False, 'url': 'https://www.yelp.com/biz/noree-thai-bazaar-new-york?adjust_creative=Q0o6644AtYBVMqGZUHAx-w&utm_campaign=yelp_api_v3&utm_medium=api_v3_business_search&utm_source=Q0o6644AtYBVMqGZUHAx-w', 'review_count': 115, 'categories': [{'alias': 'thai', 'title': 'Thai'}, {'alias': 'bars', 'title': 'Bars'}, {'alias': 'beer_and_wine', 'title': 'Beer, Wine & Spirits'}], 'rating': 4.0, 'coordinates': {'latitude': 40.7178949956625, 'longitude': -73.9928582310677}, 'transactions': ['delivery', 'pickup'], 'price': '$$', 'location': {'address1': '274 Grand St', 'address2': '', 'address3': None, 'city': 'New York', 'zip_code': '10002', 'country': 'US', 'state': 'NY', 'display_address': ['274 Grand St', 'New York, NY 10002']}, 'phone': '+16468640338', 'display_phone': '(646) 864-0338', 'distance': 1389.6632483859646}], 'total': 2600, 'region': {'center': {'longitude': -73.99429321289062, 'latitude': 40.70544486444615}}}\n"
     ]
    }
   ],
   "source": [
    "import requests \n",
    "import json\n",
    "# write a function to make a call to the API\n",
    "api_key = 'woG20FI2v3L2Pi39YfhvKMbEHg7-lffJ5fAdSnrDLx7ef6XG5CM4IPQcM7-9Qo-sUE5LQvb7LY5tkhWTXn4p0ky21xeZsOktSlN3vrnfC5tT5aA1dpynYkLhEAM6XXYx'\n",
    "url_params_businesses = {\n",
    "                            'term' : 'thai',\n",
    "                            'location': 'NYC',\n",
    "                            'limit' : 50\n",
    "                            }\n",
    "url_businesses = 'https://api.yelp.com/v3/businesses/search'\n",
    "\n",
    "url_params_reviews = {\n",
    "                        ''\n",
    "                        }\n",
    "url_reviews = 'https://api.yelp.com/v3/businesses/{id}/reviews'\n",
    "\n",
    "def yelp_call(url, url_params, api_key, id=None):\n",
    "    # DON'T FORGET TO COME BACK AND FIX FOR REVIEW URL!\n",
    "    headers = {'Authorization': 'Bearer {}'.format(api_key)}\n",
    "    response = requests.get(url, headers=headers, params=url_params)\n",
    "    \n",
    "    #may have to fix this for reviews!\n",
    "    data = response.json()\n",
    "    return data\n",
    "\n",
    "tryresults = yelp_call(url_businesses, url_params_businesses, api_key)\n",
    "print(tryresults)"
   ]
  },
  {
   "cell_type": "code",
   "execution_count": 8,
   "metadata": {},
   "outputs": [
    {
     "data": {
      "text/plain": [
       "3"
      ]
     },
     "execution_count": 8,
     "metadata": {},
     "output_type": "execute_result"
    }
   ],
   "source": [
    "type(tryresults)\n",
    "len(tryresults)"
   ]
  },
  {
   "cell_type": "code",
   "execution_count": 9,
   "metadata": {},
   "outputs": [
    {
     "name": "stdout",
     "output_type": "stream",
     "text": [
      "2600 total matches found.\n"
     ]
    }
   ],
   "source": [
    "# write a function to parse the API response \n",
    "# so that you can easily insert the data in to the DB\n",
    "\n",
    "#creates new cursor for this\n",
    "cnx = mysql.connector.connect(\n",
    "        host = config.host,\n",
    "        user = config.user,\n",
    "        passwd = config.passwd)\n",
    "\n",
    "cursor = cnx.cursor()\n",
    "\n",
    "\n",
    "#adds results just gotten from API to data base\n",
    "def add_businesses_to_db(tryresults):\n",
    "    # for each business that is in our results from our API request\n",
    "    for i in range(len(tryresults['businesses'])):\n",
    "        # sql statement to add row\n",
    "        add_business = (\"\"\"INSERT INTO businesses\n",
    "                                VALUES (%s, %s, %s, %s, %s)\n",
    "                        \"\"\")\n",
    "        try:\n",
    "            business_values = (tryresults['businesses'][i]['id'], tryresults['businesses'][i]['name'], \n",
    "                           tryresults['businesses'][i]['price'], tryresults['businesses'][i]['rating'],\n",
    "                           tryresults['businesses'][i]['location']['display_address'][0]+\", \"+tryresults['businesses'][i]['location']['display_address'][1])\n",
    "            \n",
    "            cursor.execute(\"USE yelp\") #gets us into the yelp db instance \n",
    "            cursor.execute(add_business, business_values)\n",
    "            \n",
    "        except KeyError: # here to skip the restaurants that are missing values, such as price\n",
    "            continue\n",
    "            \n",
    "    cnx.commit()\n",
    "    \n",
    "    \n",
    "def all_results(url, url_params, api_key):\n",
    "    num = tryresults['total'] \n",
    "    print('{} total matches found.'.format(num))\n",
    "    cur = 0\n",
    "    while cur < num and cur < 100:\n",
    "        # This gets you to where you should be in the data, rather than just keeping grabbing\n",
    "        # the first 50 over and over again\n",
    "        url_params['offset'] = cur \n",
    "        results = yelp_call(url, url_params, api_key)\n",
    "        add_businesses_to_db(results)\n",
    "        time.sleep(1) #Wait a second\n",
    "        cur += 50 # count to go to next 50 results\n",
    "    return\n",
    "\n",
    "all_results(url_businesses, url_params_businesses, api_key)\n",
    "\n",
    "cursor.close()\n",
    "cnx.close()\n"
   ]
  },
  {
   "cell_type": "code",
   "execution_count": null,
   "metadata": {},
   "outputs": [],
   "source": [
    "# Write a function to take your parsed data and insert it into the DB"
   ]
  },
  {
   "cell_type": "code",
   "execution_count": null,
   "metadata": {},
   "outputs": [],
   "source": []
  },
  {
   "cell_type": "markdown",
   "metadata": {},
   "source": [
    "## Part 3: Create ETL pipeline for the review data from the API"
   ]
  },
  {
   "cell_type": "code",
   "execution_count": null,
   "metadata": {},
   "outputs": [],
   "source": [
    "# write a query to pull back all of the business ids \n",
    "# you will need these ids to pull back the reviews for each restaurant"
   ]
  },
  {
   "cell_type": "code",
   "execution_count": null,
   "metadata": {},
   "outputs": [],
   "source": [
    "# write a function that take a business id \n",
    "# and makes a call to the API for reivews\n",
    "# then parse out the relevant information"
   ]
  },
  {
   "cell_type": "code",
   "execution_count": null,
   "metadata": {},
   "outputs": [],
   "source": [
    "# write a function to insert the parsed data into the reviews table"
   ]
  },
  {
   "cell_type": "markdown",
   "metadata": {},
   "source": [
    "## Part 4: Write SQL queries that will answer the questions posed. "
   ]
  },
  {
   "cell_type": "code",
   "execution_count": null,
   "metadata": {},
   "outputs": [],
   "source": [
    "# sql queries go here (using sqlite3?)"
   ]
  },
  {
   "cell_type": "markdown",
   "metadata": {},
   "source": [
    "###  Pagination\n",
    "\n",
    "Returning to the Yelp API, the [documentation](https://www.yelp.com/developers/documentation/v3/business_search) also provides us details regarding the API limits. These often include details about the number of requests a user is allowed to make within a specified time limit and the maximum number of results to be returned. In this case, we are told that any request has a maximum of 50 results per request and defaults to 20. Furthermore, any search will be limited to a total of 1000 results. To retrieve all 1000 of these results, we would have to page through the results piece by piece, retriving 50 at a time. Processes such as these are often refered to as pagination.\n",
    "\n",
    "Now that you have an initial response, you can examine the contents of the json container. For example, you might start with ```response.json().keys()```. Here, you'll see a key for `'total'`, which tells you the full number of matching results given your query parameters. Write a loop (or ideally a function) which then makes successive API calls using the offset parameter to retrieve all of the results (or 5000 for a particularly large result set) for the original query. As you do this, be mindful of how you store the data. \n",
    "\n",
    "**Note: be mindful of the API rate limits. You can only make 5000 requests per day, and APIs can make requests too fast. Start prototyping small before running a loop that could be faulty. You can also use time.sleep(n) to add delays. For more details see https://www.yelp.com/developers/documentation/v3/rate_limiting.**"
   ]
  },
  {
   "cell_type": "markdown",
   "metadata": {},
   "source": [
    "***Below is sample code that you can use to help you deal with the pagination parameter.***"
   ]
  },
  {
   "cell_type": "code",
   "execution_count": null,
   "metadata": {},
   "outputs": [],
   "source": [
    "# Your code here; use a function or loop to retrieve all the results from your original request\n",
    "import time\n",
    "\n",
    "\n",
    "def yelp_call(url_params, api_key):\n",
    "    url = 'https://api.yelp.com/v3/businesses/search'\n",
    "    headers = {'Authorization': 'Bearer {}'.format(api_key)}\n",
    "    response = requests.get(url, headers=headers, params=url_params)\n",
    "    \n",
    "    data = response.json()['businesses']\n",
    "    return data\n",
    "\n",
    "def all_results(url_params, api_key):\n",
    "    num = response.json()['total']\n",
    "    print('{} total matches found.'.format(num))\n",
    "    cur = 0\n",
    "    results = []\n",
    "    while cur < num and cur < 1000:\n",
    "        # This gets you to where you should be in the data, rather than just keeping grabbing\n",
    "        # the first 50 over and over again\n",
    "        url_params['offset'] = cur \n",
    "        results.append(yelp_call(url_params, api_key))\n",
    "        time.sleep(1) #Wait a second\n",
    "        cur += 50\n",
    "    return df\n",
    "    # Note: you could also have your function parse and then insert into database rather \n",
    "    # than appending it to results\n",
    "\n",
    "term = 'pizza'\n",
    "location = 'Astoria NY'\n",
    "url_params = {  'term': term.replace(' ', '+'),\n",
    "                'location': location.replace(' ', '+'),\n",
    "                'limit' : 50\n",
    "             }\n",
    "df = all_results(url_params, api_key)\n",
    "print(len(df))\n",
    "df.head()"
   ]
  },
  {
   "cell_type": "markdown",
   "metadata": {},
   "source": [
    "### Sample SQL Query \n",
    "\n",
    "Below is a SQL query to create a table.  Additionally here is a link to create a table with a foreign key.\n",
    "\n",
    "http://www.mysqltutorial.org/mysql-foreign-key/\n",
    "\n",
    "```CREATE TABLE IF NOT EXISTS tasks (\n",
    "    task_id INT AUTO_INCREMENT,\n",
    "    title VARCHAR(255) NOT NULL,\n",
    "    start_date DATE,\n",
    "    due_date DATE,\n",
    "    status TINYINT NOT NULL,\n",
    "    priority TINYINT NOT NULL,\n",
    "    description TEXT,\n",
    "    PRIMARY KEY (task_id)\n",
    ")  ENGINE=INNODB;```"
   ]
  },
  {
   "cell_type": "code",
   "execution_count": null,
   "metadata": {},
   "outputs": [],
   "source": []
  }
 ],
 "metadata": {
  "kernelspec": {
   "display_name": "Python 3",
   "language": "python",
   "name": "python3"
  },
  "language_info": {
   "codemirror_mode": {
    "name": "ipython",
    "version": 3
   },
   "file_extension": ".py",
   "mimetype": "text/x-python",
   "name": "python",
   "nbconvert_exporter": "python",
   "pygments_lexer": "ipython3",
   "version": "3.7.3"
  },
  "toc": {
   "base_numbering": 1,
   "nav_menu": {},
   "number_sections": false,
   "sideBar": true,
   "skip_h1_title": false,
   "title_cell": "Table of Contents",
   "title_sidebar": "Contents",
   "toc_cell": false,
   "toc_position": {},
   "toc_section_display": true,
   "toc_window_display": false
  }
 },
 "nbformat": 4,
 "nbformat_minor": 2
}
